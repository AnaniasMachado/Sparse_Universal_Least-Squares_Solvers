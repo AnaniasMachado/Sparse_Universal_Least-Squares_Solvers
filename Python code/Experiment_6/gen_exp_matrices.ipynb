{
 "cells": [
  {
   "cell_type": "code",
   "execution_count": null,
   "metadata": {},
   "outputs": [],
   "source": [
    "import matlab.engine\n",
    "import os"
   ]
  },
  {
   "cell_type": "code",
   "execution_count": null,
   "metadata": {},
   "outputs": [],
   "source": [
    "# Initiates Matlab engine\n",
    "eng = matlab.engine.start_matlab()\n",
    "\n",
    "# Gets current directory\n",
    "current_directory = os.getcwd()\n",
    "\n",
    "# Changes Matlab working directory\n",
    "eng.cd(current_directory, nargout=0)"
   ]
  },
  {
   "cell_type": "code",
   "execution_count": null,
   "metadata": {},
   "outputs": [],
   "source": [
    "expn = 6\n",
    "m = 200\n",
    "n = 100\n",
    "r_values = [20, 35, 50]\n",
    "d_values = [0.1, 0.25]\n",
    "n_mtx = 10\n",
    "output_dir = f\"./Experiment_Matrices/Experiment_{expn}\"\n",
    "\n",
    "r_values_matlab = matlab.double(r_values)\n",
    "d_values_matlab = matlab.double(d_values)"
   ]
  },
  {
   "cell_type": "code",
   "execution_count": null,
   "metadata": {},
   "outputs": [],
   "source": [
    "# Checks if output directory is empty, otherwise there are matrices previously generated\n",
    "if len(os.listdir(output_dir)) == 0:\n",
    "    eng.generate_experiment_matrices(expn, m, n, r_values_matlab, d_values_matlab, n_mtx, output_dir, nargout=0)"
   ]
  },
  {
   "cell_type": "code",
   "execution_count": null,
   "metadata": {},
   "outputs": [],
   "source": [
    "# Ends Matlab engine\n",
    "eng.quit()"
   ]
  }
 ],
 "metadata": {
  "language_info": {
   "name": "python"
  }
 },
 "nbformat": 4,
 "nbformat_minor": 2
}
