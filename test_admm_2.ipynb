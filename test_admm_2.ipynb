{
 "cells": [
  {
   "cell_type": "code",
   "execution_count": 1,
   "metadata": {},
   "outputs": [],
   "source": [
    "# Disables generation of pycache file\n",
    "import sys\n",
    "sys.dont_write_bytecode = True\n",
    "\n",
    "# Imports libraries\n",
    "import os\n",
    "\n",
    "# Imports made functions\n",
    "from utility import *\n",
    "from admm_solvers import *"
   ]
  },
  {
   "cell_type": "code",
   "execution_count": 2,
   "metadata": {},
   "outputs": [
    {
     "name": "stdout",
     "output_type": "stream",
     "text": [
      "TimeLimit: ADMM exceed time limit to solve problem.\n"
     ]
    }
   ],
   "source": [
    "experiment = \"6\"\n",
    "\n",
    "matrices_filepath = get_experiment_matrices_filepath(experiment)\n",
    "matrix_filepath = matrices_filepath[0]\n",
    "A = read_matrix(matrix_filepath)\n",
    "\n",
    "H = admm1e_123(A=A)"
   ]
  },
  {
   "cell_type": "code",
   "execution_count": 2,
   "metadata": {},
   "outputs": [],
   "source": [
    "m = 500\n",
    "A = generate_random_rank_r_matrix(m=m)"
   ]
  },
  {
   "cell_type": "code",
   "execution_count": 17,
   "metadata": {},
   "outputs": [],
   "source": [
    "matrix_filepath = \"experiment_7_matrix_m100_n50_r25_d10_idx5.mat\"\n",
    "A = read_matrix(matrix_filepath)"
   ]
  },
  {
   "cell_type": "code",
   "execution_count": 18,
   "metadata": {},
   "outputs": [],
   "source": [
    "H = admm1_123(A=A)"
   ]
  },
  {
   "cell_type": "code",
   "execution_count": 19,
   "metadata": {},
   "outputs": [],
   "source": [
    "H = admm1e_123(A=A)"
   ]
  },
  {
   "cell_type": "markdown",
   "metadata": {},
   "source": [
    "## Observations\n",
    "\n",
    "Random matrix A of m = 500, n = 250, r = 125:\n",
    "- ADMM: 2 minutes\n",
    "- ADMMe: 87 minutes.\n",
    "\n",
    "Random matrix A of m = 100, n = 50, r = 25:\n",
    "- ADMM: 1 second.\n",
    "- ADMMe: 1 minute.\n",
    "\n",
    "Random matrix A of m = 100, n = 50, r = 25:\n",
    "- ADMM: 1 second.\n",
    "- ADMMe: 16 seconds.\n",
    "\n",
    "Random matrix A of m = 100, n = 50, r = 25:\n",
    "- ADMM: 2 second.\n",
    "- ADMMe: 35 seconds.\n",
    "\n",
    "Random matrix A of m = 100, n = 50, r = 25:\n",
    "- ADMM: 2 second.\n",
    "- ADMMe: 1 minute.\n",
    "\n",
    "Random matrix A of m = 100, n = 50, r = 25:\n",
    "- ADMM: 2 second.\n",
    "- ADMMe: 1 minute."
   ]
  }
 ],
 "metadata": {
  "kernelspec": {
   "display_name": "Nonlinear_Programming_Work",
   "language": "python",
   "name": "python3"
  },
  "language_info": {
   "codemirror_mode": {
    "name": "ipython",
    "version": 3
   },
   "file_extension": ".py",
   "mimetype": "text/x-python",
   "name": "python",
   "nbconvert_exporter": "python",
   "pygments_lexer": "ipython3",
   "version": "3.10.16"
  }
 },
 "nbformat": 4,
 "nbformat_minor": 2
}
