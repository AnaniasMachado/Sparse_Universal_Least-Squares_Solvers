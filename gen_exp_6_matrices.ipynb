{
 "cells": [
  {
   "cell_type": "code",
   "execution_count": 86,
   "metadata": {},
   "outputs": [],
   "source": [
    "import matlab.engine\n",
    "import os"
   ]
  },
  {
   "cell_type": "code",
   "execution_count": 87,
   "metadata": {},
   "outputs": [],
   "source": [
    "# Initiates Matlab engine\n",
    "eng = matlab.engine.start_matlab()\n",
    "\n",
    "# Gets current directory\n",
    "current_directory = os.getcwd()\n",
    "\n",
    "# Changes Matlab working directory\n",
    "eng.cd(current_directory, nargout=0)"
   ]
  },
  {
   "cell_type": "code",
   "execution_count": 88,
   "metadata": {},
   "outputs": [],
   "source": [
    "expn = 6\n",
    "m = 150\n",
    "n = 75\n",
    "# r_values = [12, 27, 42]\n",
    "# d_values = [0.1, 0.25]\n",
    "r_values = [42]\n",
    "d_values = [0.10]\n",
    "# n_mtx = 10\n",
    "n_mtx = 20\n",
    "output_dir = f\"./Experiment_Matrices/Experiment_{expn}\"\n",
    "\n",
    "r_values_matlab = matlab.double(r_values)\n",
    "d_values_matlab = matlab.double(d_values)"
   ]
  },
  {
   "cell_type": "code",
   "execution_count": 89,
   "metadata": {},
   "outputs": [],
   "source": [
    "# Checks if output directory is empty, otherwise there are matrices previously generated\n",
    "# if len(os.listdir(output_dir)) == 0:\n",
    "#     eng.generate_experiment_matrices(expn, m, n, r_values_matlab, d_values_matlab, n_mtx, output_dir, nargout=0)\n",
    "eng.generate_experiment_matrices(expn, m, n, r_values_matlab, d_values_matlab, n_mtx, output_dir, nargout=0)"
   ]
  },
  {
   "cell_type": "code",
   "execution_count": 90,
   "metadata": {},
   "outputs": [],
   "source": [
    "# Ends Matlab engine\n",
    "eng.quit()"
   ]
  }
 ],
 "metadata": {
  "kernelspec": {
   "display_name": "Nonlinear_Programming_Work",
   "language": "python",
   "name": "python3"
  },
  "language_info": {
   "codemirror_mode": {
    "name": "ipython",
    "version": 3
   },
   "file_extension": ".py",
   "mimetype": "text/x-python",
   "name": "python",
   "nbconvert_exporter": "python",
   "pygments_lexer": "ipython3",
   "version": "3.10.16"
  }
 },
 "nbformat": 4,
 "nbformat_minor": 2
}
