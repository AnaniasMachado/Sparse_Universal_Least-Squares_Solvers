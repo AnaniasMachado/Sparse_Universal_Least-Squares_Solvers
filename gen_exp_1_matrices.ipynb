{
 "cells": [
  {
   "cell_type": "code",
   "execution_count": 1,
   "metadata": {},
   "outputs": [],
   "source": [
    "import matlab.engine\n",
    "import os"
   ]
  },
  {
   "cell_type": "code",
   "execution_count": 2,
   "metadata": {},
   "outputs": [],
   "source": [
    "# Initiates Matlab engine\n",
    "eng = matlab.engine.start_matlab()\n",
    "\n",
    "# Gets current directory\n",
    "current_directory = os.getcwd()\n",
    "\n",
    "# Changes Matlab working directory\n",
    "eng.cd(current_directory, nargout=0)"
   ]
  },
  {
   "cell_type": "code",
   "execution_count": 3,
   "metadata": {},
   "outputs": [],
   "source": [
    "expn = 1\n",
    "# m_values = [60, 80, 100, 120]\n",
    "# m_values = [140, 160, 180, 200, 220, 240]\n",
    "# m_values = [260, 280]\n",
    "# m_values = [300, 320, 340, 360, 380, 400, 420, 440, 460, 480, 500]\n",
    "m_values = [500 + i*20 for i in range(1, 26)]\n",
    "d_values = [1]\n",
    "n_mtx = 5\n",
    "output_dir = f\"./Experiment_Matrices/Experiment_{expn}\"\n",
    "\n",
    "d_values_matlab = matlab.double(d_values)"
   ]
  },
  {
   "cell_type": "code",
   "execution_count": 4,
   "metadata": {},
   "outputs": [],
   "source": [
    "for m in m_values:\n",
    "    n = int(0.5 * m)\n",
    "    r_values = [int(0.25 * m)]\n",
    "    r_values_matlab = matlab.double(r_values)\n",
    "    eng.generate_experiment_matrices(expn, m, n, r_values_matlab, d_values_matlab, n_mtx, output_dir, nargout=0)"
   ]
  },
  {
   "cell_type": "code",
   "execution_count": 5,
   "metadata": {},
   "outputs": [],
   "source": [
    "# Ends Matlab engine\n",
    "eng.quit()"
   ]
  }
 ],
 "metadata": {
  "kernelspec": {
   "display_name": "Python 3",
   "language": "python",
   "name": "python3"
  },
  "language_info": {
   "codemirror_mode": {
    "name": "ipython",
    "version": 3
   },
   "file_extension": ".py",
   "mimetype": "text/x-python",
   "name": "python",
   "nbconvert_exporter": "python",
   "pygments_lexer": "ipython3",
   "version": "3.10.16"
  }
 },
 "nbformat": 4,
 "nbformat_minor": 2
}
