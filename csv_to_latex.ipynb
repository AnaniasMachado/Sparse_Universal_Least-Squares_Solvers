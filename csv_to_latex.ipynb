{
 "cells": [
  {
   "cell_type": "markdown",
   "metadata": {},
   "source": [
    "# CSV To Latex"
   ]
  },
  {
   "cell_type": "markdown",
   "metadata": {},
   "source": [
    "**Objetivo:** Converter um arquivo csv para um código Latex de tabela."
   ]
  },
  {
   "cell_type": "markdown",
   "metadata": {},
   "source": [
    "**Referência de tabela:**\n",
    "\n",
    "\n",
    "\"\\begin{table}[h] \\\n",
    "    \\centering \\\n",
    "    \\begin{tabular}{|c|c|c|} \\\n",
    "        \\hline \\\n",
    "        \\textbf{Nome} & \\textbf{Idade} & \\textbf{Cidade} \\\\ \\\n",
    "        \\hline \\\n",
    "        João & 28 & São Paulo \\\\ \\\n",
    "        Maria & 32 & Rio de Janeiro \\\\ \\\n",
    "        Pedro & 25 & Belo Horizonte \\\\ \\\n",
    "        \\hline \\\n",
    "    \\end{tabular} \\\n",
    "    \\caption{Tabela Simples} \\\n",
    "    \\label{tab:simple} \\\n",
    "\\end{table}\""
   ]
  },
  {
   "cell_type": "code",
   "execution_count": 38,
   "metadata": {},
   "outputs": [],
   "source": [
    "import pandas as pd"
   ]
  },
  {
   "cell_type": "code",
   "execution_count": 39,
   "metadata": {},
   "outputs": [],
   "source": [
    "def csv_to_latex(df, column_names, table_title, table_legend):\n",
    "    \n",
    "    # Select the specified columns\n",
    "    selected_df = df.loc[:, column_names]\n",
    "    \n",
    "    # Creates a Latex string\n",
    "    latex_str = \"\\\\begin{table}[h]\\n\"\n",
    "    latex_str += \"    \\\\centering\"\n",
    "    latex_str += \"    \\\\begin{tabular}{|\" + \"|\".join([\"c\"] * selected_df.shape[1]) + \"|}\\n\"\n",
    "    latex_str += \"        \\\\hline\"\n",
    "    \n",
    "    # Adds header\n",
    "    latex_str += \"        \" + \" & \".join(selected_df.columns) + \" \\\\\\\\\\n\"\n",
    "    latex_str += \"        \\\\hline\"\n",
    "    \n",
    "    # Adds data\n",
    "    for index, row in selected_df.iterrows():\n",
    "        latex_str += \"        \" + \" & \".join(map(str, row.values)) + \" \\\\\\\\\\n\"\n",
    "    \n",
    "    # Adds tail\n",
    "    latex_str += \"        \\\\hline\"\n",
    "    latex_str += \"    \\\\end{tabular}\\n\"\n",
    "    latex_str += f\"    \\\\caption{{{table_legend}}}\\n\"\n",
    "    latex_str += f\"    \\\\label{{tab:{table_title}}}\\n\"\n",
    "    latex_str += \"\\\\end{table}\\n\"\n",
    "    \n",
    "    return latex_str\n"
   ]
  },
  {
   "cell_type": "code",
   "execution_count": 41,
   "metadata": {},
   "outputs": [
    {
     "name": "stdout",
     "output_type": "stream",
     "text": [
      "\\begin{table}[h]\n",
      "    \\centering    \\begin{tabular}{|c|c|c|c|c|c|c|c|}\n",
      "        \\hline        m & n & r & 1_norm_PLS_||H||_1 & 1_norm_PLS_||H||_0 & 1_norm_PLS_r(H) & 1_norm_PLS_Computational_Time(s) & 1_norm_PLS_Memory_Used(MiB) \\\\\n",
      "        \\hline        50.0 & 25.0 & 12.0 & 31.538 & 600.0 & 25.0 & 16.707 & 83.83 \\\\\n",
      "        60.0 & 30.0 & 15.0 & 40.861 & 900.0 & 30.0 & 31.048 & 176.713 \\\\\n",
      "        70.0 & 35.0 & 17.0 & 47.562 & 1190.0 & 35.0 & 53.396 & 312.548 \\\\\n",
      "        80.0 & 40.0 & 20.0 & 56.31 & 1600.0 & 40.0 & 86.361 & 520.653 \\\\\n",
      "        90.0 & 45.0 & 22.0 & 61.169 & 1980.0 & 45.0 & 132.439 & 819.197 \\\\\n",
      "        100.0 & 50.0 & 25.0 & 70.256 & 2500.0 & 50.0 & 191.789 & 1061.572 \\\\\n",
      "        \\hline    \\end{tabular}\n",
      "    \\caption{Tabela Simples}\n",
      "    \\label{tab:simples}\n",
      "\\end{table}\n",
      "\n"
     ]
    }
   ],
   "source": [
    "df = pd.read_csv(\"results_4.csv\")\n",
    "df_rounded = df.round(3)\n",
    "\n",
    "problems = [\"1_norm_P1_P3\", \"1_norm_PLS\"]\n",
    "\n",
    "desired_result_columns = [\"||H||_1\" , \"||H||_0\", \"r(H)\", \"Computational_Time(s)\", \"Memory_Used(MiB)\"]\n",
    "\n",
    "result_column_names = []\n",
    "for problem in problems:\n",
    "    for column_name in desired_result_columns:\n",
    "        result_column_names.append(f\"{problem}_{column_name}\")\n",
    "\n",
    "column_names = [\"m\", \"n\", \"r\"] + result_column_names[5:]\n",
    "table_title = 'simples'\n",
    "table_legend = 'Tabela Simples'\n",
    "\n",
    "latex_code = csv_to_latex(df_rounded, column_names, table_title, table_legend)\n",
    "print(latex_code)"
   ]
  },
  {
   "cell_type": "code",
   "execution_count": 44,
   "metadata": {},
   "outputs": [
    {
     "name": "stdout",
     "output_type": "stream",
     "text": [
      "\\begin{table}[h]\n",
      "    \\centering    \\begin{tabular}{|c|c|c|c|c|c|c|}\n",
      "        \\hline        m & r & 1_norm_P1_P4_||H||_1 & 1_norm_P1_P4_||H||_0 & 1_norm_P1_P4_r(H) & 1_norm_P1_P4_Computational_Time(s) & 1_norm_P1_P4_Memory_Used(MiB) \\\\\n",
      "        \\hline        20.0 & 10.0 & 26.301 & 200.0 & 20.0 & 2.925 & 13.173 \\\\\n",
      "        40.0 & 20.0 & 55.218 & 800.0 & 40.0 & 43.506 & 135.828 \\\\\n",
      "        60.0 & 30.0 & 83.322 & 1800.0 & 60.0 & 314.028 & 610.254 \\\\\n",
      "        \\hline    \\end{tabular}\n",
      "    \\caption{Tabela Simples}\n",
      "    \\label{tab:simples}\n",
      "\\end{table}\n",
      "\n"
     ]
    }
   ],
   "source": [
    "df = pd.read_csv(\"results_3.csv\")\n",
    "df_rounded = df.round(3)\n",
    "\n",
    "problems = [\"1_norm_P1_P4\", \"1_norm_MSN\"]\n",
    "\n",
    "desired_result_columns = [\"||H||_1\" , \"||H||_0\", \"r(H)\", \"Computational_Time(s)\", \"Memory_Used(MiB)\"]\n",
    "\n",
    "result_column_names = []\n",
    "for problem in problems:\n",
    "    for column_name in desired_result_columns:\n",
    "        result_column_names.append(f\"{problem}_{column_name}\")\n",
    "\n",
    "column_names = [\"m\", \"r\"] + result_column_names[:5]\n",
    "table_title = 'simples'\n",
    "table_legend = 'Tabela Simples'\n",
    "\n",
    "latex_code = csv_to_latex(df_rounded, column_names, table_title, table_legend)\n",
    "print(latex_code)"
   ]
  }
 ],
 "metadata": {
  "kernelspec": {
   "display_name": "Nonlinear_Programming_Work_Kernel",
   "language": "python",
   "name": "nonlinear_programming_work_kernel"
  },
  "language_info": {
   "codemirror_mode": {
    "name": "ipython",
    "version": 3
   },
   "file_extension": ".py",
   "mimetype": "text/x-python",
   "name": "python",
   "nbconvert_exporter": "python",
   "pygments_lexer": "ipython3",
   "version": "3.12.5"
  }
 },
 "nbformat": 4,
 "nbformat_minor": 2
}
