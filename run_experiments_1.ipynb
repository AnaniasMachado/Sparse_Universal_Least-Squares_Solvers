{
 "cells": [
  {
   "cell_type": "markdown",
   "metadata": {},
   "source": [
    "# Run Experiments"
   ]
  },
  {
   "cell_type": "markdown",
   "metadata": {},
   "source": [
    "Let $A \\in \\mathbb{R}^{m \\times n}$, $H \\in \\mathbb{R}^{n \\times m}$.\n",
    "\n",
    "Consider the following properties:\n",
    "\n",
    "$$\n",
    "AHA = A \\tag{P1} \\\\\n",
    "$$\n",
    "\n",
    "$$\n",
    "(AH)^T = AH \\tag{P3} \\\\\n",
    "$$\n",
    "\n",
    "$$\n",
    "A^TAH = A^T \\tag{PLS} \\\\\n",
    "$$"
   ]
  },
  {
   "cell_type": "markdown",
   "metadata": {},
   "source": [
    "In this experiment we solve the problems:\n",
    "\n",
    "$$\n",
    "\\min\\{||H||_1 : P1\\} \\tag{$P_{1}^{1}$} \\\\\n",
    "$$\n",
    "\n",
    "$$\n",
    "\\min\\{||H||_1 : PLS\\} \\tag{$P_{PLS}^{1}$} \\\\\n",
    "$$\n",
    "\n",
    "$$\n",
    "\\min\\{||H||_1 : P1, PLS\\} \\tag{$P_{1, PLS}^{1}$} \\\\\n",
    "$$\n",
    "\n",
    "$$\n",
    "\\min\\{||H||_1 : P1, P3\\} \\tag{$P_{1, 3}^{1}$} \\\\\n",
    "$$"
   ]
  },
  {
   "cell_type": "markdown",
   "metadata": {},
   "source": [
    "Where $A$ is a random rank $r$ $m \\times n$ matrix $A$, where $m = 50, 60, ..., 100$, $n = \\lfloor 0.5m \\rfloor$, $r = \\lfloor 0.25m \\rfloor$, using the function *random.rand* from the Python’s library Numpy which generates a random $m \\times n$ matrix $A'$ with coefficients in the uniform distribution $[0, 1)$, after which we computed the singular value decomposition of $A'$, $U\\Sigma' V^T$, created a matrix $\\Sigma$ that consists of $Σ'$ with only the $r$-greatest singular values, and computed $A$ as $A = U\\Sigma V^T$. In the case where $A'$ has rank less then $r$, we simply generated another $A'$ until $A'$ has rank at least $r$."
   ]
  },
  {
   "cell_type": "markdown",
   "metadata": {},
   "source": [
    "We colleted the following measures for each problem:\n",
    "\n",
    "- $||H||_1$\n",
    "- $||H||_0$\n",
    "- r(H) (where r stands for rank)\n",
    "- $||AHA - A||_F$\n",
    "- $||HAH - H||_F$\n",
    "- $||(AH)^T - AH||_F$\n",
    "- $||A^TAH - AT||_F$"
   ]
  },
  {
   "cell_type": "markdown",
   "metadata": {},
   "source": [
    "## Imports"
   ]
  },
  {
   "cell_type": "code",
   "execution_count": 1,
   "metadata": {},
   "outputs": [],
   "source": [
    "# Disables generation of pycache file\n",
    "import sys\n",
    "sys.dont_write_bytecode = True\n",
    "\n",
    "# Imports libraries\n",
    "import pandas as pd\n",
    "\n",
    "# Imports made functions\n",
    "from solvers import *\n",
    "from utility import *"
   ]
  },
  {
   "cell_type": "markdown",
   "metadata": {},
   "source": [
    "## Running Experiments"
   ]
  },
  {
   "cell_type": "code",
   "execution_count": 2,
   "metadata": {},
   "outputs": [],
   "source": [
    "result_columns_basenames = [\"||H||_1\" , \"||H||_0\", \"r(H)\", \"||AHA - A||_F\", \"||HAH - H||_F\",\n",
    "                \"||(AH)^T - AH||_F\", \"||A^TAH - AT||_F\"]\n",
    "\n",
    "problems = [\"1_norm_P1\", \"1_norm_PLS\", \"1_norm_P1_PLS\", \"1_norm_P1_P3\"]\n",
    "\n",
    "result_column_names = []\n",
    "for problem in problems:\n",
    "    for basename in result_columns_basenames:\n",
    "        result_column_names.append(f\"{problem}_{basename}\")\n",
    "\n",
    "column_names = [\"m\", \"n\", \"r\"] + result_column_names\n",
    "\n",
    "m_values = [10*i for i in range(5, 11)]"
   ]
  },
  {
   "cell_type": "code",
   "execution_count": 3,
   "metadata": {},
   "outputs": [],
   "source": [
    "solvers = {\n",
    "    \"1_norm_P1\": problem_1_norm_P1_solver,\n",
    "    \"1_norm_PLS\": problem_1_norm_PLS_solver,\n",
    "    \"1_norm_P1_PLS\": problem_1_norm_P1_PLS_solver,\n",
    "    \"1_norm_P1_P3\": problem_1_norm_P1_P3_solver\n",
    "}\n",
    "\n",
    "is_viable_checks = {\n",
    "    \"1_norm_P1\": problem_1_norm_P1_viable_solution,\n",
    "    \"1_norm_PLS\": problem_1_norm_PLS_viable_solution,\n",
    "    \"1_norm_P1_PLS\": problem_1_norm_P1_PLS_viable_solution,\n",
    "    \"1_norm_P1_P3\": problem_1_norm_P1_P3_viable_solution\n",
    "}"
   ]
  },
  {
   "cell_type": "code",
   "execution_count": 4,
   "metadata": {},
   "outputs": [],
   "source": [
    "try:\n",
    "    df = pd.read_csv(\"./results/results.csv\")\n",
    "except:\n",
    "    # Creates an empty dataframe with the specified column names\n",
    "    df = pd.DataFrame(columns=column_names)\n",
    "\n",
    "    # Saves dataframe as a csv file\n",
    "    df.to_csv('./results/results.csv', index=False)"
   ]
  },
  {
   "cell_type": "code",
   "execution_count": 5,
   "metadata": {},
   "outputs": [],
   "source": [
    "df = pd.read_csv(\"./results/results.csv\")"
   ]
  },
  {
   "cell_type": "code",
   "execution_count": 6,
   "metadata": {},
   "outputs": [],
   "source": [
    "for m in m_values:\n",
    "    A = generate_random_rank_r_matrix(m=m)\n",
    "    n = int(0.5 * m)\n",
    "    r = int(np.floor(0.25 * m))\n",
    "    instance_results = {\n",
    "        \"m\": m,\n",
    "        \"n\": n,\n",
    "        \"r\": r\n",
    "    }\n",
    "\n",
    "    for i in range(len(problems)):\n",
    "        problem = problems[i]\n",
    "        solver = solvers[problem]\n",
    "        is_viable_check = is_viable_checks[problem]\n",
    "        H_star = solver(A=A)\n",
    "        if (not is_viable_check(A=A, H=H_star, m=m, n=n)):\n",
    "            print(f\"m: {m}\")\n",
    "            print(f\"problem: {problem} did not find a viable solution\")\n",
    "            break\n",
    "        problem_results = calculate_problem_results(A=A, H=H_star, problem=problem)\n",
    "        for key, value in problem_results.items():\n",
    "            instance_results[key] = value\n",
    "\n",
    "    df.loc[len(df)] = instance_results\n",
    "    df.to_csv('./results/results.csv', index=False)"
   ]
  },
  {
   "cell_type": "code",
   "execution_count": 10,
   "metadata": {},
   "outputs": [],
   "source": [
    "df.to_excel('./results/results.xlsx', sheet_name='1_norm_experiments', index=False)"
   ]
  }
 ],
 "metadata": {
  "kernelspec": {
   "display_name": "Nonlinear_Programming_Work_Kernel",
   "language": "python",
   "name": "nonlinear_programming_work_kernel"
  },
  "language_info": {
   "codemirror_mode": {
    "name": "ipython",
    "version": 3
   },
   "file_extension": ".py",
   "mimetype": "text/x-python",
   "name": "python",
   "nbconvert_exporter": "python",
   "pygments_lexer": "ipython3",
   "version": "3.12.5"
  }
 },
 "nbformat": 4,
 "nbformat_minor": 2
}
