{
 "cells": [
  {
   "cell_type": "markdown",
   "metadata": {},
   "source": [
    "# Testing"
   ]
  },
  {
   "cell_type": "markdown",
   "metadata": {},
   "source": [
    "## Imports"
   ]
  },
  {
   "cell_type": "code",
   "execution_count": 223,
   "metadata": {},
   "outputs": [],
   "source": [
    "import numpy as np\n",
    "import gurobipy as gp\n",
    "from gurobipy import GRB"
   ]
  },
  {
   "cell_type": "markdown",
   "metadata": {},
   "source": [
    "## Functions"
   ]
  },
  {
   "cell_type": "code",
   "execution_count": 224,
   "metadata": {},
   "outputs": [],
   "source": [
    "def generate_random_rank_r_matrix(m):\n",
    "    n = int(0.5 * m)\n",
    "    r = int(np.floor(0.25 * m))\n",
    "    while True:\n",
    "        A = np.random.rand(m, n)\n",
    "        U, S, VT = np.linalg.svd(A)\n",
    "        S_bar = np.zeros((m, n))\n",
    "        if S.shape[0] < r:\n",
    "            continue\n",
    "        for i in range(r):\n",
    "            S_bar[i, i] = S[i]\n",
    "        A = np.dot(U, np.dot(S_bar, VT))\n",
    "        return A"
   ]
  },
  {
   "cell_type": "code",
   "execution_count": 225,
   "metadata": {},
   "outputs": [],
   "source": [
    "def matrix_rank(H):\n",
    "    U, S, VT = np.linalg.svd(H)\n",
    "    rank = 0\n",
    "    for i in range(S.shape[0]):\n",
    "        if S[i] > epsilon:\n",
    "            rank += 1\n",
    "    return rank"
   ]
  },
  {
   "cell_type": "code",
   "execution_count": 226,
   "metadata": {},
   "outputs": [],
   "source": [
    "def matrix_vec_inf_norm(H):\n",
    "    return max([np.abs(h) for h in H.flatten()])"
   ]
  },
  {
   "cell_type": "code",
   "execution_count": 227,
   "metadata": {},
   "outputs": [],
   "source": [
    "def matrix_frobenius_norm(H):\n",
    "    return np.linalg.norm(H, ord=\"fro\")"
   ]
  },
  {
   "cell_type": "code",
   "execution_count": 228,
   "metadata": {},
   "outputs": [],
   "source": [
    "def initial_variables(V1, U1, D_inv, rho):\n",
    "    Theta = np.dot(V1, U1.T) / matrix_vec_inf_norm(np.dot(V1, U1.T))\n",
    "    Lambda = Theta / rho\n",
    "    E = np.dot(V1, np.dot(D_inv, U1.T)) + Lambda\n",
    "    return Lambda, E"
   ]
  },
  {
   "cell_type": "code",
   "execution_count": 229,
   "metadata": {},
   "outputs": [],
   "source": [
    "def soft_thresholding(a, kappa):\n",
    "    if a > kappa:\n",
    "        return a - kappa\n",
    "    elif np.abs(a) <= kappa:\n",
    "        return 0\n",
    "    elif a < -kappa:\n",
    "        return a + kappa"
   ]
  },
  {
   "cell_type": "code",
   "execution_count": 230,
   "metadata": {},
   "outputs": [],
   "source": [
    "def admm1_123(A, rho, epsilon_abs, epsilon_rel):\n",
    "    # Gets dimensions of matrix A\n",
    "    m = A.shape[0]\n",
    "    n = A.shape[1]\n",
    "    # Calculates full singular value decomposition of A\n",
    "    U, S, VT = np.linalg.svd(A)\n",
    "    # Calculates rank of A\n",
    "    r = matrix_rank(A)\n",
    "    # Calculates variables U1, V1, V2 and D^{-1}\n",
    "    U1 = U[:, :r]\n",
    "    V1 = VT.T[:, :r]\n",
    "    V2 = VT.T[:, r:]\n",
    "    D_inv = np.zeros((r, r))\n",
    "    for i in range(r):\n",
    "            D_inv[i, i] = 1 / S[i]\n",
    "    # Calculates initial variables\n",
    "    Lambda, Ekm = initial_variables(V1=V1, U1=U1, D_inv=D_inv, rho=rho)\n",
    "    Ek = np.zeros((n, m))\n",
    "    while True:\n",
    "        # Updates variable J\n",
    "        J = Ekm - np.dot(V1, np.dot(D_inv, U1.T)) - Lambda\n",
    "        # Updates variable Zk\n",
    "        Z = np.dot(V2.T, np.dot(J, U1))\n",
    "        # Updates variable Y\n",
    "        Y = np.dot(V1, np.dot(D_inv, U1.T)) + np.dot(V2, np.dot(Z, U1.T)) + Lambda\n",
    "        # Updates variable Ek\n",
    "        for i in range(n):\n",
    "            for j in range(m):\n",
    "                Ek[i, j] = soft_thresholding(a=Y[i, j], kappa=1/rho)\n",
    "        # Updates variable Lambdak\n",
    "        Lambda = Lambda + np.dot(V1, np.dot(D_inv, U1.T)) + np.dot(V2, np.dot(Z, U1.T)) - Ek\n",
    "        # Calculates stop criterion variables\n",
    "        rk = np.dot(V1, np.dot(D_inv, U1.T)) + np.dot(V2, np.dot(Z, U1.T)) - Ek\n",
    "        sk = rho * np.dot(V2.T, np.dot(Ek - Ekm, U1))\n",
    "        matrix_norms = [\n",
    "            matrix_frobenius_norm(Ek),\n",
    "            matrix_frobenius_norm(np.dot(V2, np.dot(Z, U1.T))),\n",
    "            matrix_frobenius_norm(np.dot(V1, np.dot(D_inv, U1.T)))\n",
    "        ]\n",
    "        primal_upper_bound = epsilon_abs * np.sqrt(m*n) + epsilon_rel * max(matrix_norms)\n",
    "        aux_var = matrix_frobenius_norm(np.dot(V2.T, np.dot(Lambda, U1)))\n",
    "        dual_upper_bound = epsilon_abs * np.sqrt((n-r)*r) + epsilon_rel * rho * aux_var\n",
    "        # Checks stop criterion\n",
    "        if (matrix_frobenius_norm(rk) <= primal_upper_bound) and (matrix_frobenius_norm(sk)) < dual_upper_bound:\n",
    "            break\n",
    "        # Makes Ek the new Ek-1\n",
    "        Ekm = Ek\n",
    "    # Calculates output matrix H\n",
    "    H = np.dot(V1, np.dot(D_inv, U1.T)) + np.dot(V2, np.dot(Z, U1.T))\n",
    "    return H"
   ]
  },
  {
   "cell_type": "code",
   "execution_count": 231,
   "metadata": {},
   "outputs": [],
   "source": [
    "def admm1_134(A, rho, epsilon_abs, epsilon_rel):\n",
    "    # Gets dimensions of matrix A\n",
    "    m = A.shape[0]\n",
    "    n = A.shape[1]\n",
    "    # Calculates full singular value decomposition of A\n",
    "    U, S, VT = np.linalg.svd(A)\n",
    "    # Calculates rank of A\n",
    "    r = matrix_rank(A)\n",
    "    # Calculates variables U1, U2, V1, V2 and D^{-1}\n",
    "    U1 = U[:, :r]\n",
    "    U2 = U[:, r:]\n",
    "    V1 = VT.T[:, :r]\n",
    "    V2 = VT.T[:, r:]\n",
    "    D_inv = np.zeros((r, r))\n",
    "    for i in range(r):\n",
    "            D_inv[i, i] = 1 / S[i]\n",
    "    # Calculates initial variables\n",
    "    Lambda, Ekm = initial_variables(V1=V1, U1=U1, D_inv=D_inv, rho=rho)\n",
    "    Ek = np.zeros((n, m))\n",
    "    while True:\n",
    "        # Updates variable J\n",
    "        J = Ekm - np.dot(V1, np.dot(D_inv, U1.T)) - Lambda\n",
    "        # Updates variable Wk\n",
    "        W = np.dot(V2.T, np.dot(J, U2))\n",
    "        # Updates variable Y\n",
    "        Y = np.dot(V1, np.dot(D_inv, U1.T)) + np.dot(V2, np.dot(W, U2.T)) + Lambda\n",
    "        # Updates variable Ek\n",
    "        for i in range(n):\n",
    "            for j in range(m):\n",
    "                Ek[i, j] = soft_thresholding(a=Y[i, j], kappa=1/rho)\n",
    "        # Updates variable Lambdak\n",
    "        Lambda = Lambda + np.dot(V1, np.dot(D_inv, U1.T)) + np.dot(V2, np.dot(W, U2.T)) - Ek\n",
    "        # Calculates stop criterion variables\n",
    "        rk = np.dot(V1, np.dot(D_inv, U1.T)) + np.dot(V2, np.dot(W, U2.T)) - Ek\n",
    "        sk = rho * np.dot(V2.T, np.dot(Ek - Ekm, U1))\n",
    "        matrix_norms = [\n",
    "            matrix_frobenius_norm(Ek),\n",
    "            matrix_frobenius_norm(np.dot(V2, np.dot(W, U2.T))),\n",
    "            matrix_frobenius_norm(np.dot(V1, np.dot(D_inv, U1.T)))\n",
    "        ]\n",
    "        primal_upper_bound = epsilon_abs * np.sqrt(m*n) + epsilon_rel * max(matrix_norms)\n",
    "        aux_var = matrix_frobenius_norm(np.dot(V2.T, np.dot(Lambda, U1)))\n",
    "        dual_upper_bound = epsilon_abs * np.sqrt((n-r)*r) + epsilon_rel * rho * aux_var\n",
    "        # Checks stop criterion\n",
    "        if (matrix_frobenius_norm(rk) <= primal_upper_bound) and (matrix_frobenius_norm(sk)) < dual_upper_bound:\n",
    "            break\n",
    "        # Makes Ek the new Ek-1\n",
    "        Ekm = Ek\n",
    "    # Calculates output matrix H\n",
    "    H = np.dot(V1, np.dot(D_inv, U1.T)) + np.dot(V2, np.dot(W, U2.T))\n",
    "    return H"
   ]
  },
  {
   "cell_type": "markdown",
   "metadata": {},
   "source": [
    "## Testing Functions"
   ]
  },
  {
   "cell_type": "code",
   "execution_count": 232,
   "metadata": {},
   "outputs": [],
   "source": [
    "epsilon = 10 ** -5\n",
    "\n",
    "m = 10\n",
    "A = generate_random_rank_r_matrix(m=m)\n",
    "rho = 0.5\n",
    "epsilon_abs = 10 ** -5\n",
    "epsilon_rel = 10 ** -6"
   ]
  },
  {
   "cell_type": "code",
   "execution_count": 233,
   "metadata": {},
   "outputs": [
    {
     "name": "stdout",
     "output_type": "stream",
     "text": [
      "1.3101756731727149e-15\n",
      "2.5958252401743736e-16\n",
      "4.647845098012396e-16\n",
      "2.112030322619477\n"
     ]
    }
   ],
   "source": [
    "H = admm1_123(A=A, rho=rho, epsilon_abs=epsilon_abs, epsilon_rel=epsilon_rel)\n",
    "\n",
    "AHA = np.dot(A, np.dot(H, A))\n",
    "HAH = np.dot(H, np.dot(A, H))\n",
    "AH = np.dot(A, H)\n",
    "AH_T = np.dot(A, H).T\n",
    "HA = np.dot(H, A)\n",
    "HA_T = np.dot(H, A).T\n",
    "print(matrix_frobenius_norm(AHA - A))\n",
    "print(matrix_frobenius_norm(HAH - H))\n",
    "print(matrix_frobenius_norm(AH - AH_T))\n",
    "print(matrix_frobenius_norm(HA - HA_T))"
   ]
  },
  {
   "cell_type": "code",
   "execution_count": 234,
   "metadata": {},
   "outputs": [
    {
     "name": "stdout",
     "output_type": "stream",
     "text": [
      "1.4481034772981419e-15\n",
      "0.7836509200128745\n",
      "5.571474341854064e-16\n",
      "4.769700983088376e-16\n"
     ]
    }
   ],
   "source": [
    "H = admm1_134(A=A, rho=rho, epsilon_abs=epsilon_abs, epsilon_rel=epsilon_rel)\n",
    "\n",
    "AHA = np.dot(A, np.dot(H, A))\n",
    "HAH = np.dot(H, np.dot(A, H))\n",
    "AH = np.dot(A, H)\n",
    "AH_T = np.dot(A, H).T\n",
    "HA = np.dot(H, A)\n",
    "HA_T = np.dot(H, A).T\n",
    "print(matrix_frobenius_norm(AHA - A))\n",
    "print(matrix_frobenius_norm(HAH - H))\n",
    "print(matrix_frobenius_norm(AH - AH_T))\n",
    "print(matrix_frobenius_norm(HA - HA_T))"
   ]
  },
  {
   "cell_type": "code",
   "execution_count": 235,
   "metadata": {},
   "outputs": [
    {
     "name": "stdout",
     "output_type": "stream",
     "text": [
      "50.0\n",
      "36\n",
      "[[-6.15588801e-02  3.02918062e-05 -5.70488575e-02  4.24492608e-01\n",
      "   2.03386365e-05  7.13942570e-02  4.36501301e-01 -7.68071204e-02\n",
      "  -1.03531118e-01 -1.27601178e-01]\n",
      " [-5.94716508e-06  2.37505888e-01 -4.38425935e-02 -7.03501011e-06\n",
      "   1.87898887e-06  7.22862618e-02 -7.38537541e-06 -1.19976314e-05\n",
      "  -6.38929341e-06 -1.05844897e-05]\n",
      " [-2.24146362e-06 -7.56687166e-06  4.93451735e-01 -1.12257723e-06\n",
      "   6.33307419e-02 -2.20352910e-01 -1.20656075e-06 -4.37620051e-06\n",
      "  -2.52306637e-06  1.06159457e-01]\n",
      " [ 1.61286761e-01 -5.72831302e-06  5.31420015e-06 -1.81363787e-01\n",
      "   1.50971763e-06 -1.57099692e-01 -1.83562259e-01  2.89919282e-01\n",
      "   2.01261609e-01  2.16997191e-01]\n",
      " [-1.01672923e-05  1.05089562e-01 -3.07015829e-01 -1.41167155e-05\n",
      "   1.65792527e-01  4.43006459e-01 -1.47813987e-05 -2.07102730e-05\n",
      "  -1.07660240e-05 -1.95085108e-05]]\n"
     ]
    }
   ],
   "source": [
    "print(np.linalg.norm(H.flatten(), ord=0))\n",
    "total = 0\n",
    "for x in H.flatten():\n",
    "    if np.abs(x) > 10 ** -5:\n",
    "        total += 1\n",
    "print(total)\n",
    "print(H)"
   ]
  }
 ],
 "metadata": {
  "kernelspec": {
   "display_name": "Nonlinear_Programming_Work_Kernel",
   "language": "python",
   "name": "nonlinear_programming_work_kernel"
  },
  "language_info": {
   "codemirror_mode": {
    "name": "ipython",
    "version": 3
   },
   "file_extension": ".py",
   "mimetype": "text/x-python",
   "name": "python",
   "nbconvert_exporter": "python",
   "pygments_lexer": "ipython3",
   "version": "3.12.8"
  }
 },
 "nbformat": 4,
 "nbformat_minor": 2
}
