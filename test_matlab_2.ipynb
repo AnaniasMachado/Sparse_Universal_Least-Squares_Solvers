{
 "cells": [
  {
   "cell_type": "code",
   "execution_count": 1,
   "metadata": {},
   "outputs": [],
   "source": [
    "# Disables generation of pycache file\n",
    "import sys\n",
    "sys.dont_write_bytecode = True\n",
    "\n",
    "import matlab.engine\n",
    "import os\n",
    "\n",
    "from utility import *"
   ]
  },
  {
   "cell_type": "code",
   "execution_count": 2,
   "metadata": {},
   "outputs": [],
   "source": [
    "# Initiates Matlab engine\n",
    "eng = matlab.engine.start_matlab()\n",
    "\n",
    "# Gets current directory\n",
    "current_directory = os.getcwd()\n",
    "\n",
    "# Changes Matlab working directory\n",
    "eng.cd(current_directory, nargout=0)"
   ]
  },
  {
   "cell_type": "code",
   "execution_count": null,
   "metadata": {},
   "outputs": [],
   "source": [
    "experiment = \"6\"\n",
    "\n",
    "matrices_filepath = get_experiment_matrices_filepath(experiment)\n",
    "\n",
    "matrix_filepath = matrices_filepath[0]\n",
    "A = read_matrix(matrix_filepath)\n",
    "m, n, r, d = get_m_n_r_d_from_matrix_filepath(matrix_filepath)\n",
    "\n",
    "func_name = \"LSFI_Det_P3\"\n",
    "\n",
    "save_path = f\"Local_Search_Matrices/Experiment_{experiment}/LS_matrix\""
   ]
  },
  {
   "cell_type": "code",
   "execution_count": null,
   "metadata": {},
   "outputs": [],
   "source": [
    "eng.call_local_search_procedure(matrix_filepath, r, m, n, func_name, save_path, nargout=0)"
   ]
  },
  {
   "cell_type": "code",
   "execution_count": 6,
   "metadata": {},
   "outputs": [
    {
     "name": "stdout",
     "output_type": "stream",
     "text": [
      "[[0.         0.         0.         ... 0.         0.         0.        ]\n",
      " [0.         0.         0.         ... 0.         0.         0.        ]\n",
      " [0.         0.         0.         ... 0.         0.         0.        ]\n",
      " ...\n",
      " [0.         0.         0.         ... 0.         0.54006001 0.        ]\n",
      " [0.         0.         0.         ... 0.         0.00190808 0.        ]\n",
      " [0.         0.         0.         ... 0.         0.         0.        ]]\n",
      "[[ 0.00000000e+00  0.00000000e+00  0.00000000e+00 ...  0.00000000e+00\n",
      "   0.00000000e+00  0.00000000e+00]\n",
      " [ 2.40036356e-12 -3.81157377e-12 -1.97553648e-18 ... -7.01425973e-09\n",
      "   1.71657049e-11 -3.33780866e-11]\n",
      " [ 0.00000000e+00  0.00000000e+00  0.00000000e+00 ...  0.00000000e+00\n",
      "   0.00000000e+00  0.00000000e+00]\n",
      " ...\n",
      " [ 0.00000000e+00  0.00000000e+00  0.00000000e+00 ...  0.00000000e+00\n",
      "   0.00000000e+00  0.00000000e+00]\n",
      " [-5.88791068e-05 -4.41487928e-06 -8.83958482e-19 ...  1.48418051e-01\n",
      "   6.17966704e-04 -6.70445422e-06]\n",
      " [ 0.00000000e+00  0.00000000e+00  0.00000000e+00 ...  0.00000000e+00\n",
      "   0.00000000e+00  0.00000000e+00]]\n",
      "6.4356606748316894e-15\n",
      "2.732127843396893e-15\n"
     ]
    }
   ],
   "source": [
    "LS_matrix_path = \"Local_Search_Matrices\\Experiment_6\\LS_matrix.mat\"\n",
    "LS_matrix = read_matrix(LS_matrix_path)\n",
    "\n",
    "print(A)\n",
    "\n",
    "print(LS_matrix)\n",
    "\n",
    "AHA = np.dot(A, np.dot(LS_matrix, A))\n",
    "\n",
    "print(matrix_frobenius_norm(A - AHA))\n",
    "\n",
    "AH = np.dot(A, LS_matrix)\n",
    "AH_T = np.dot(A, LS_matrix).T\n",
    "\n",
    "print(matrix_frobenius_norm(AH - AH_T))"
   ]
  },
  {
   "cell_type": "code",
   "execution_count": null,
   "metadata": {},
   "outputs": [],
   "source": [
    "# Ends Matlab engine\n",
    "eng.quit()"
   ]
  }
 ],
 "metadata": {
  "kernelspec": {
   "display_name": "Nonlinear_Programming_Work_Kernel",
   "language": "python",
   "name": "nonlinear_programming_work_kernel"
  },
  "language_info": {
   "codemirror_mode": {
    "name": "ipython",
    "version": 3
   },
   "file_extension": ".py",
   "mimetype": "text/x-python",
   "name": "python",
   "nbconvert_exporter": "python",
   "pygments_lexer": "ipython3",
   "version": "3.12.5"
  }
 },
 "nbformat": 4,
 "nbformat_minor": 2
}
