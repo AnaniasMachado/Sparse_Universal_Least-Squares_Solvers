{
 "cells": [
  {
   "cell_type": "code",
   "execution_count": null,
   "metadata": {},
   "outputs": [],
   "source": [
    "import matlab.engine\n",
    "import os\n",
    "\n",
    "from utility import *"
   ]
  },
  {
   "cell_type": "code",
   "execution_count": null,
   "metadata": {},
   "outputs": [],
   "source": [
    "# Initiates Matlab engine\n",
    "eng = matlab.engine.start_matlab()\n",
    "\n",
    "# Gets current directory\n",
    "current_directory = os.getcwd()\n",
    "\n",
    "# Changes Matlab working directory\n",
    "eng.cd(current_directory, nargout=0)"
   ]
  },
  {
   "cell_type": "code",
   "execution_count": null,
   "metadata": {},
   "outputs": [],
   "source": [
    "experiment = \"6\"\n",
    "\n",
    "matrices_filepath = get_experiment_matrices_filepath(experiment)\n",
    "\n",
    "matrix_filepath = matrices_filepath[0]\n",
    "A = read_matrix(matrix_filepath)\n",
    "m, n, r, d = get_m_n_r_d_from_matrix_filepath(matrix_filepath)\n",
    "\n",
    "R = [i for i in range(m)]\n",
    "C = [i for i in range(n)]\n",
    "\n",
    "R_matlab = matlab.int(R)\n",
    "C_matlab = matlab.int(C)\n",
    "\n",
    "func_name = \"LSFI_Det\"\n",
    "\n",
    "save_path = f\"Local_Search_Matrices/Experiment_{experiment}\""
   ]
  },
  {
   "cell_type": "code",
   "execution_count": null,
   "metadata": {},
   "outputs": [],
   "source": [
    "eng.call_local_search_procedure(matrix_filepath, r, m, n, R_matlab, C_matlab, func_name, save_path, nargout=0)"
   ]
  }
 ],
 "metadata": {
  "kernelspec": {
   "display_name": "Nonlinear_Programming_Work_Kernel",
   "language": "python",
   "name": "nonlinear_programming_work_kernel"
  },
  "language_info": {
   "codemirror_mode": {
    "name": "ipython",
    "version": 3
   },
   "file_extension": ".py",
   "mimetype": "text/x-python",
   "name": "python",
   "nbconvert_exporter": "python",
   "pygments_lexer": "ipython3",
   "version": "3.12.8"
  }
 },
 "nbformat": 4,
 "nbformat_minor": 2
}
