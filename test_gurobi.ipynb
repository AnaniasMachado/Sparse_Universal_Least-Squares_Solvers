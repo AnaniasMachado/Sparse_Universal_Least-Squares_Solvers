{
 "cells": [
  {
   "cell_type": "code",
   "execution_count": 1,
   "metadata": {},
   "outputs": [],
   "source": [
    "# Disables generation of pycache file\n",
    "import sys\n",
    "sys.dont_write_bytecode = True\n",
    "\n",
    "# Imports libraries\n",
    "import time\n",
    "import os\n",
    "import pandas as pd\n",
    "\n",
    "# Imports made functions\n",
    "from solvers import *\n",
    "from utility import *\n",
    "from admm_solvers import *\n",
    "from local_search import *"
   ]
  },
  {
   "cell_type": "code",
   "execution_count": 2,
   "metadata": {},
   "outputs": [],
   "source": [
    "experiment = \"6\""
   ]
  },
  {
   "cell_type": "code",
   "execution_count": 3,
   "metadata": {},
   "outputs": [],
   "source": [
    "matrices_filepath = get_experiment_matrices_filepath(experiment)\n",
    "matrix_filepath = matrices_filepath[19]\n",
    "A = read_matrix(matrix_filepath)\n",
    "hatA = np.dot(A.T, A)"
   ]
  },
  {
   "cell_type": "code",
   "execution_count": 4,
   "metadata": {},
   "outputs": [
    {
     "name": "stdout",
     "output_type": "stream",
     "text": [
      "Set parameter Username\n",
      "Set parameter LicenseID to value 2619952\n",
      "Academic license - for non-commercial use only - expires 2026-02-09\n",
      "Warning for adding constraints: zero or small (< 1e-13) coefficients, ignored\n"
     ]
    },
    {
     "ename": "RuntimeError",
     "evalue": "Model was not optimized successfully. Status: 12",
     "output_type": "error",
     "traceback": [
      "\u001b[1;31m---------------------------------------------------------------------------\u001b[0m",
      "\u001b[1;31mRuntimeError\u001b[0m                              Traceback (most recent call last)",
      "Cell \u001b[1;32mIn[4], line 1\u001b[0m\n\u001b[1;32m----> 1\u001b[0m H \u001b[38;5;241m=\u001b[39m \u001b[43mproblem_1_norm_P1_solver\u001b[49m\u001b[43m(\u001b[49m\u001b[43mhatA\u001b[49m\u001b[43m)\u001b[49m\n",
      "File \u001b[1;32mc:\\Users\\ananias\\Documents\\Programs\\Sparse_Universal_Least-Squares_Solvers\\solvers.py:77\u001b[0m, in \u001b[0;36mproblem_1_norm_P1_solver\u001b[1;34m(A)\u001b[0m\n\u001b[0;32m     75\u001b[0m     \u001b[38;5;28;01mreturn\u001b[39;00m H_values\n\u001b[0;32m     76\u001b[0m \u001b[38;5;28;01melse\u001b[39;00m:\n\u001b[1;32m---> 77\u001b[0m     \u001b[38;5;28;01mraise\u001b[39;00m \u001b[38;5;167;01mRuntimeError\u001b[39;00m(\u001b[38;5;124mf\u001b[39m\u001b[38;5;124m\"\u001b[39m\u001b[38;5;124mModel was not optimized successfully. Status: \u001b[39m\u001b[38;5;132;01m{\u001b[39;00mmodel\u001b[38;5;241m.\u001b[39mstatus\u001b[38;5;132;01m}\u001b[39;00m\u001b[38;5;124m\"\u001b[39m)\n",
      "\u001b[1;31mRuntimeError\u001b[0m: Model was not optimized successfully. Status: 12"
     ]
    }
   ],
   "source": [
    "H = problem_1_norm_P1_solver(hatA)"
   ]
  }
 ],
 "metadata": {
  "kernelspec": {
   "display_name": "Nonlinear_Programming_Work",
   "language": "python",
   "name": "python3"
  },
  "language_info": {
   "codemirror_mode": {
    "name": "ipython",
    "version": 3
   },
   "file_extension": ".py",
   "mimetype": "text/x-python",
   "name": "python",
   "nbconvert_exporter": "python",
   "pygments_lexer": "ipython3",
   "version": "3.10.16"
  }
 },
 "nbformat": 4,
 "nbformat_minor": 2
}
