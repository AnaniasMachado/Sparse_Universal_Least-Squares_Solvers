{
 "cells": [
  {
   "cell_type": "code",
   "execution_count": 1,
   "metadata": {},
   "outputs": [],
   "source": [
    "# Disables generation of pycache file\n",
    "import sys\n",
    "sys.dont_write_bytecode = True\n",
    "\n",
    "# Imports libraries\n",
    "import time\n",
    "import os\n",
    "import pandas as pd\n",
    "\n",
    "# Imports made functions\n",
    "from solvers import *\n",
    "from utility import *\n",
    "from admm_solvers import *\n",
    "from local_search import *"
   ]
  },
  {
   "cell_type": "code",
   "execution_count": 2,
   "metadata": {},
   "outputs": [],
   "source": [
    "experiment = \"6\""
   ]
  },
  {
   "cell_type": "code",
   "execution_count": 3,
   "metadata": {},
   "outputs": [],
   "source": [
    "matrices_filepath = get_experiment_matrices_filepath(experiment)\n",
    "# matrix_filepath = \"Experiment_Matrices\\Experiment_6\\experiment_6_matrix_m200_n100_r25_d25_idx10.mat\"\n",
    "matrix_filepath = \"Experiment_Matrices\\Experiment_6\\experiment_6_matrix_m200_n100_r25_d10_idx7.mat\"\n",
    "A = read_matrix(matrix_filepath)\n",
    "hatA = np.dot(A.T, A)"
   ]
  },
  {
   "cell_type": "code",
   "execution_count": 4,
   "metadata": {},
   "outputs": [
    {
     "name": "stdout",
     "output_type": "stream",
     "text": [
      "Set parameter Username\n",
      "Set parameter LicenseID to value 2619952\n",
      "Academic license - for non-commercial use only - expires 2026-02-09\n",
      "Warning for adding constraints: zero or small (< 1e-13) coefficients, ignored\n"
     ]
    }
   ],
   "source": [
    "H = problem_1_norm_P1_sym_solver(hatA)"
   ]
  },
  {
   "cell_type": "code",
   "execution_count": 5,
   "metadata": {},
   "outputs": [],
   "source": [
    "def matrix_frobenius_norm(H):\n",
    "    return np.linalg.norm(H, ord=\"fro\")\n",
    "\n",
    "def matrix_vec_1_norm(H):\n",
    "    return np.linalg.norm(H.flatten(), ord=1)"
   ]
  },
  {
   "cell_type": "code",
   "execution_count": 6,
   "metadata": {},
   "outputs": [],
   "source": [
    "H_opt_filepath = \"H.mat\"\n",
    "\n",
    "import scipy.io\n",
    "import scipy.sparse\n",
    "\n",
    "mat = scipy.io.loadmat(H_opt_filepath)\n",
    "\n",
    "# Reads matrix\n",
    "H_opt = mat['Hval']\n",
    "\n",
    "if scipy.sparse.issparse(H_opt):\n",
    "    # Converts to dense matrix\n",
    "    H_opt = H_opt.toarray()"
   ]
  },
  {
   "cell_type": "code",
   "execution_count": 7,
   "metadata": {},
   "outputs": [
    {
     "name": "stdout",
     "output_type": "stream",
     "text": [
      "1.9595396288505153e-06\n",
      "21.8939341864709\n"
     ]
    }
   ],
   "source": [
    "print(matrix_frobenius_norm(np.dot(hatA, np.dot(H, hatA)) - hatA))\n",
    "print(matrix_frobenius_norm(np.dot(hatA, np.dot(H_opt, hatA)) - hatA))"
   ]
  },
  {
   "cell_type": "code",
   "execution_count": 8,
   "metadata": {},
   "outputs": [
    {
     "name": "stdout",
     "output_type": "stream",
     "text": [
      "17.08570187259573\n",
      "19.851010639037362\n"
     ]
    }
   ],
   "source": [
    "print(matrix_vec_1_norm(H))\n",
    "print(matrix_vec_1_norm(H_opt))"
   ]
  }
 ],
 "metadata": {
  "kernelspec": {
   "display_name": "Nonlinear_Programming_Work",
   "language": "python",
   "name": "python3"
  },
  "language_info": {
   "codemirror_mode": {
    "name": "ipython",
    "version": 3
   },
   "file_extension": ".py",
   "mimetype": "text/x-python",
   "name": "python",
   "nbconvert_exporter": "python",
   "pygments_lexer": "ipython3",
   "version": "3.10.16"
  }
 },
 "nbformat": 4,
 "nbformat_minor": 2
}
