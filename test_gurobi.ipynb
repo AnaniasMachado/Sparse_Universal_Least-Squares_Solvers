{
 "cells": [
  {
   "cell_type": "code",
   "execution_count": 6,
   "metadata": {},
   "outputs": [],
   "source": [
    "# Disables generation of pycache file\n",
    "import sys\n",
    "sys.dont_write_bytecode = True\n",
    "\n",
    "# Imports libraries\n",
    "import time\n",
    "import os\n",
    "import pandas as pd\n",
    "\n",
    "# Imports made functions\n",
    "from solvers import *\n",
    "from utility import *\n",
    "from admm_solvers import *\n",
    "from local_search import *"
   ]
  },
  {
   "cell_type": "code",
   "execution_count": 7,
   "metadata": {},
   "outputs": [],
   "source": [
    "experiment = \"6\""
   ]
  },
  {
   "cell_type": "code",
   "execution_count": 8,
   "metadata": {},
   "outputs": [
    {
     "name": "stdout",
     "output_type": "stream",
     "text": [
      "Versão do Gurobi instalada: (12, 0, 1)\n"
     ]
    }
   ],
   "source": [
    "import gurobipy as gp\n",
    "\n",
    "# Obtendo a versão do Gurobi\n",
    "version = gp.gurobi.version()\n",
    "print(\"Versão do Gurobi instalada:\", version)"
   ]
  },
  {
   "cell_type": "code",
   "execution_count": 9,
   "metadata": {},
   "outputs": [],
   "source": [
    "matrices_filepath = get_experiment_matrices_filepath(experiment)\n",
    "# matrix_filepath = \"Experiment_Matrices\\Experiment_6\\experiment_6_matrix_m200_n100_r25_d25_idx10.mat\"\n",
    "# matrix_filepath = \"Experiment_Matrices\\Experiment_6\\experiment_6_matrix_m200_n100_r25_d10_idx7.mat\"\n",
    "# matrix_filepath = \"Experiment_Matrices\\Experiment_6\\experiment_6_matrix_m200_n100_r25_d25_idx7.mat\"\n",
    "# matrix_filepath = \"Experiment_Matrices\\Experiment_6\\experiment_6_matrix_m200_n100_r50_d25_idx1.mat\"\n",
    "matrix_filepath = \"Experiment_Matrices\\Experiment_6\\experiment_6_matrix_m150_n75_r42_d25_idx1.mat\"\n",
    "A = read_matrix(matrix_filepath)\n",
    "hatA = np.dot(A.T, A)"
   ]
  },
  {
   "cell_type": "code",
   "execution_count": 10,
   "metadata": {},
   "outputs": [
    {
     "name": "stdout",
     "output_type": "stream",
     "text": [
      "Warning for adding constraints: zero or small (< 1e-13) coefficients, ignored\n"
     ]
    }
   ],
   "source": [
    "H = problem_1_norm_P1_solver(hatA)\n",
    "# H = problem_1_norm_P1_sym_solver(hatA)"
   ]
  },
  {
   "cell_type": "code",
   "execution_count": 11,
   "metadata": {},
   "outputs": [],
   "source": [
    "def matrix_frobenius_norm(H):\n",
    "    return np.linalg.norm(H, ord=\"fro\")\n",
    "\n",
    "def matrix_vec_1_norm(H):\n",
    "    return np.linalg.norm(H.flatten(), ord=1)"
   ]
  },
  {
   "cell_type": "code",
   "execution_count": 12,
   "metadata": {},
   "outputs": [],
   "source": [
    "H_opt_filepath = \"H.mat\"\n",
    "\n",
    "import scipy.io\n",
    "import scipy.sparse\n",
    "\n",
    "mat = scipy.io.loadmat(H_opt_filepath)\n",
    "\n",
    "# Reads matrix\n",
    "H_opt = mat['Hval']\n",
    "\n",
    "if scipy.sparse.issparse(H_opt):\n",
    "    # Converts to dense matrix\n",
    "    H_opt = H_opt.toarray()"
   ]
  },
  {
   "cell_type": "code",
   "execution_count": 13,
   "metadata": {},
   "outputs": [
    {
     "name": "stdout",
     "output_type": "stream",
     "text": [
      "1.68969788507622e-09\n"
     ]
    },
    {
     "ename": "ValueError",
     "evalue": "shapes (100,100) and (75,75) not aligned: 100 (dim 1) != 75 (dim 0)",
     "output_type": "error",
     "traceback": [
      "\u001b[1;31m---------------------------------------------------------------------------\u001b[0m",
      "\u001b[1;31mValueError\u001b[0m                                Traceback (most recent call last)",
      "Cell \u001b[1;32mIn[13], line 2\u001b[0m\n\u001b[0;32m      1\u001b[0m \u001b[38;5;28mprint\u001b[39m(matrix_frobenius_norm(np\u001b[38;5;241m.\u001b[39mdot(hatA, np\u001b[38;5;241m.\u001b[39mdot(H, hatA)) \u001b[38;5;241m-\u001b[39m hatA))\n\u001b[1;32m----> 2\u001b[0m \u001b[38;5;28mprint\u001b[39m(matrix_frobenius_norm(np\u001b[38;5;241m.\u001b[39mdot(hatA, \u001b[43mnp\u001b[49m\u001b[38;5;241;43m.\u001b[39;49m\u001b[43mdot\u001b[49m\u001b[43m(\u001b[49m\u001b[43mH_opt\u001b[49m\u001b[43m,\u001b[49m\u001b[43m \u001b[49m\u001b[43mhatA\u001b[49m\u001b[43m)\u001b[49m) \u001b[38;5;241m-\u001b[39m hatA))\n",
      "\u001b[1;31mValueError\u001b[0m: shapes (100,100) and (75,75) not aligned: 100 (dim 1) != 75 (dim 0)"
     ]
    }
   ],
   "source": [
    "print(matrix_frobenius_norm(np.dot(hatA, np.dot(H, hatA)) - hatA))\n",
    "print(matrix_frobenius_norm(np.dot(hatA, np.dot(H_opt, hatA)) - hatA))"
   ]
  },
  {
   "cell_type": "code",
   "execution_count": null,
   "metadata": {},
   "outputs": [
    {
     "name": "stdout",
     "output_type": "stream",
     "text": [
      "21.276345549944534\n",
      "19.851010639037362\n"
     ]
    }
   ],
   "source": [
    "print(matrix_vec_1_norm(H))\n",
    "print(matrix_vec_1_norm(H_opt))"
   ]
  }
 ],
 "metadata": {
  "kernelspec": {
   "display_name": "Nonlinear_Programming_Work",
   "language": "python",
   "name": "python3"
  },
  "language_info": {
   "codemirror_mode": {
    "name": "ipython",
    "version": 3
   },
   "file_extension": ".py",
   "mimetype": "text/x-python",
   "name": "python",
   "nbconvert_exporter": "python",
   "pygments_lexer": "ipython3",
   "version": "3.10.16"
  }
 },
 "nbformat": 4,
 "nbformat_minor": 2
}
