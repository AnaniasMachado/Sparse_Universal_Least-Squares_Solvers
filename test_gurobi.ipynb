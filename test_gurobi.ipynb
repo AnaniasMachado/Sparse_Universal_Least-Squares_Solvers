{
 "cells": [
  {
   "cell_type": "code",
   "execution_count": 1,
   "metadata": {},
   "outputs": [],
   "source": [
    "# Disables generation of pycache file\n",
    "import sys\n",
    "sys.dont_write_bytecode = True\n",
    "\n",
    "# Imports libraries\n",
    "import time\n",
    "import os\n",
    "import pandas as pd\n",
    "\n",
    "# Imports made functions\n",
    "from solvers import *\n",
    "from utility import *\n",
    "from admm_solvers import *\n",
    "from local_search import *"
   ]
  },
  {
   "cell_type": "code",
   "execution_count": 2,
   "metadata": {},
   "outputs": [],
   "source": [
    "experiment = \"6\""
   ]
  },
  {
   "cell_type": "code",
   "execution_count": null,
   "metadata": {},
   "outputs": [],
   "source": [
    "matrices_filepath = get_experiment_matrices_filepath(experiment)\n",
    "matrix_filepath = \"Experiment_Matrices\\Experiment_6\\experiment_6_matrix_m200_n100_r25_d25_idx10.mat\"\n",
    "A = read_matrix(matrix_filepath)\n",
    "hatA = np.dot(A.T, A)"
   ]
  },
  {
   "cell_type": "code",
   "execution_count": 4,
   "metadata": {},
   "outputs": [
    {
     "name": "stdout",
     "output_type": "stream",
     "text": [
      "Set parameter Username\n",
      "Set parameter LicenseID to value 2619952\n",
      "Academic license - for non-commercial use only - expires 2026-02-09\n",
      "Warning for adding constraints: zero or small (< 1e-13) coefficients, ignored\n",
      "Set parameter TimeLimit to value 7200\n",
      "Gurobi Optimizer version 12.0.1 build v12.0.1rc0 (win64 - Windows Server 2019.0 (17763.2))\n",
      "\n",
      "CPU model: Intel(R) Xeon(R) CPU E5-2667 v4 @ 3.20GHz, instruction set [SSE2|AVX|AVX2]\n",
      "Thread count: 16 physical cores, 32 logical processors, using up to 32 threads\n",
      "\n",
      "Non-default parameters:\n",
      "TimeLimit  7200\n",
      "\n",
      "Optimize a model with 30000 rows, 20000 columns and 31161937 nonzeros\n",
      "Model fingerprint: 0x8b4f742f\n",
      "Coefficient statistics:\n",
      "  Matrix range     [1e-13, 1e+01]\n",
      "  Objective range  [1e+00, 1e+00]\n",
      "  Bounds range     [0e+00, 0e+00]\n",
      "  RHS range        [1e-25, 4e+00]\n",
      "Presolve removed 22231 rows and 11728 columns (presolve time = 6s)...\n",
      "Presolve removed 22231 rows and 11728 columns (presolve time = 13s)...\n",
      "Presolve removed 22231 rows and 11728 columns (presolve time = 16s)...\n",
      "Presolve removed 22349 rows and 11728 columns\n",
      "Presolve time: 20.10s\n",
      "Presolved: 7651 rows, 8272 columns, 27420383 nonzeros\n",
      "\n",
      "Concurrent LP optimizer: primal simplex, dual simplex, and barrier\n",
      "Showing barrier log only...\n",
      "\n",
      "Ordering time: 2.69s\n",
      "\n",
      "Barrier statistics:\n",
      " AA' NZ     : 2.867e+07\n",
      " Factor NZ  : 2.885e+07 (roughly 240 MB of memory)\n",
      " Factor Ops : 1.461e+11 (roughly 4 seconds per iteration)\n",
      " Threads    : 14\n",
      "\n",
      "Barrier performed 0 iterations in 35.54 seconds (27.14 work units)\n",
      "Barrier solve interrupted - model solved by another algorithm\n",
      "\n",
      "\n",
      "Solved with dual simplex\n",
      "Extra simplex iterations after uncrush: 2\n",
      "Iteration    Objective       Primal Inf.    Dual Inf.      Time\n",
      "    1014    2.6712908e+01   0.000000e+00   0.000000e+00     41s\n",
      "\n",
      "Solved in 1014 iterations and 41.29 seconds (24.31 work units)\n",
      "Optimal objective  2.671290820e+01\n"
     ]
    }
   ],
   "source": [
    "H = problem_1_norm_P1_solver(hatA)"
   ]
  }
 ],
 "metadata": {
  "kernelspec": {
   "display_name": "Nonlinear_Programming_Work",
   "language": "python",
   "name": "python3"
  },
  "language_info": {
   "codemirror_mode": {
    "name": "ipython",
    "version": 3
   },
   "file_extension": ".py",
   "mimetype": "text/x-python",
   "name": "python",
   "nbconvert_exporter": "python",
   "pygments_lexer": "ipython3",
   "version": "3.10.16"
  }
 },
 "nbformat": 4,
 "nbformat_minor": 2
}
