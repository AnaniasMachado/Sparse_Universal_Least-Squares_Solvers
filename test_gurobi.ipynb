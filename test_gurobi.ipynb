{
 "cells": [
  {
   "cell_type": "code",
   "execution_count": 1,
   "metadata": {},
   "outputs": [],
   "source": [
    "# Disables generation of pycache file\n",
    "import sys\n",
    "sys.dont_write_bytecode = True\n",
    "\n",
    "# Imports libraries\n",
    "import time\n",
    "import os\n",
    "import pandas as pd\n",
    "\n",
    "# Imports made functions\n",
    "from solvers import *\n",
    "from utility import *\n",
    "from admm_solvers import *\n",
    "from local_search import *"
   ]
  },
  {
   "cell_type": "code",
   "execution_count": 2,
   "metadata": {},
   "outputs": [],
   "source": [
    "experiment = \"6\""
   ]
  },
  {
   "cell_type": "code",
   "execution_count": 3,
   "metadata": {},
   "outputs": [
    {
     "name": "stdout",
     "output_type": "stream",
     "text": [
      "Versão do Gurobi instalada: (12, 0, 1)\n"
     ]
    }
   ],
   "source": [
    "import gurobipy as gp\n",
    "\n",
    "# Obtendo a versão do Gurobi\n",
    "version = gp.gurobi.version()\n",
    "print(\"Versão do Gurobi instalada:\", version)"
   ]
  },
  {
   "cell_type": "code",
   "execution_count": 4,
   "metadata": {},
   "outputs": [],
   "source": [
    "matrices_filepath = get_experiment_matrices_filepath(experiment)\n",
    "# matrix_filepath = \"Experiment_Matrices\\Experiment_6\\experiment_6_matrix_m200_n100_r25_d25_idx10.mat\"\n",
    "matrix_filepath = \"Experiment_Matrices\\Experiment_6\\experiment_6_matrix_m180_n90_r30_d25_idx5.mat\"\n",
    "A = read_matrix(matrix_filepath)\n",
    "hatA = np.dot(A.T, A)"
   ]
  },
  {
   "cell_type": "code",
   "execution_count": 5,
   "metadata": {},
   "outputs": [
    {
     "name": "stdout",
     "output_type": "stream",
     "text": [
      "0.5228670741112447\n",
      "1.9125319789925077\n",
      "30\n"
     ]
    }
   ],
   "source": [
    "import numpy as np\n",
    "\n",
    "U, S, VT = np.linalg.svd(A)\n",
    "\n",
    "Se = [val for val in S if val > 10**(-5)]\n",
    "\n",
    "print(min(Se))\n",
    "print(max(Se))\n",
    "print(len(Se))"
   ]
  },
  {
   "cell_type": "code",
   "execution_count": 6,
   "metadata": {},
   "outputs": [
    {
     "name": "stdout",
     "output_type": "stream",
     "text": [
      "Set parameter Username\n",
      "Set parameter LicenseID to value 2619952\n",
      "Academic license - for non-commercial use only - expires 2026-02-09\n",
      "Warning for adding constraints: zero or small (< 1e-13) coefficients, ignored\n",
      "Set parameter LogFile to value \"gurobi_log_4.txt\"\n",
      "Set parameter OptimalityTol to value 1e-05\n",
      "Set parameter BarConvTol to value 1e-05\n",
      "Set parameter FeasibilityTol to value 1e-05\n",
      "Set parameter TimeLimit to value 7200\n",
      "Gurobi Optimizer version 12.0.1 build v12.0.1rc0 (win64 - Windows Server 2019.0 (17763.2))\n",
      "\n",
      "CPU model: Intel(R) Xeon(R) CPU E5-2667 v4 @ 3.20GHz, instruction set [SSE2|AVX|AVX2]\n",
      "Thread count: 16 physical cores, 32 logical processors, using up to 32 threads\n",
      "\n",
      "Non-default parameters:\n",
      "TimeLimit  7200\n",
      "FeasibilityTol  1e-05\n",
      "OptimalityTol  1e-05\n",
      "BarConvTol  1e-05\n",
      "\n",
      "Optimize a model with 24300 rows, 16200 columns and 18334197 nonzeros\n",
      "Model fingerprint: 0x01d908c4\n",
      "Coefficient statistics:\n",
      "  Matrix range     [1e-13, 1e+01]\n",
      "  Objective range  [1e+00, 1e+00]\n",
      "  Bounds range     [0e+00, 0e+00]\n",
      "  RHS range        [3e-27, 3e+00]\n",
      "Presolve removed 9647 rows and 887 columns (presolve time = 7s)...\n",
      "Presolve removed 9647 rows and 887 columns (presolve time = 11s)...\n",
      "Presolve removed 10654 rows and 1794 columns (presolve time = 15s)...\n",
      "Presolve removed 10654 rows and 1794 columns\n",
      "\n",
      "Concurrent LP optimizer: primal simplex, dual simplex, and barrier\n",
      "Showing barrier log only...\n",
      "\n",
      "Ordering time: 1.00s\n",
      "\n",
      "Barrier statistics:\n",
      " Free vars  : 3632\n",
      " AA' NZ     : 1.077e+07\n",
      " Factor NZ  : 1.805e+07 (roughly 150 MB of memory)\n",
      " Factor Ops : 7.096e+10 (roughly 1 second per iteration)\n",
      " Threads    : 14\n",
      "\n",
      "                  Objective                Residual\n",
      "Iter       Primal          Dual         Primal    Dual     Compl     Time\n",
      "   0   4.29606857e+04  1.34470247e+00  2.94e+00 4.73e+00  1.13e+01    29s\n",
      "   1   8.60022781e+03  3.95253570e+01  6.58e-02 3.63e-03  1.18e+00    31s\n",
      "   2   5.59153532e+02  8.17710031e+01  3.00e-03 2.88e-04  6.55e-02    33s\n",
      "   3   1.38904844e+02  1.01801617e+02  8.38e-05 4.92e-05  5.09e-03    35s\n",
      "   4   1.12119436e+02  1.07529179e+02  4.68e-06 3.85e-06  6.30e-04    37s\n",
      "\n",
      "Barrier performed 4 iterations in 37.71 seconds (29.58 work units)\n",
      "Barrier solve interrupted - model solved by another algorithm\n",
      "\n",
      "\n",
      "Solved with dual simplex\n",
      "Iteration    Objective       Primal Inf.    Dual Inf.      Time\n",
      "    4440    1.0837025e+02   0.000000e+00   0.000000e+00     40s\n",
      "\n",
      "Use crossover to convert LP symmetric solution to basic solution...\n",
      "Crossover log...\n",
      "\n",
      "Warning: 2 variables dropped from basis\n",
      "\n",
      "Restart crossover...\n",
      "\n",
      "    4440 variables added to crossover basis                       60s\n",
      "    4509 variables added to crossover basis                       60s\n",
      "   15983 variables added to crossover basis                       65s\n",
      "   16463 variables added to crossover basis                       70s\n",
      "\n",
      "    7502 DPushes remaining with DInf 0.0000000e+00                72s\n",
      "     388 DPushes remaining with DInf 0.0000000e+00                77s\n",
      "     300 DPushes remaining with DInf 0.0000000e+00                82s\n",
      "\n",
      "      13 PPushes remaining with PInf 2.2556915e-05                84s\n",
      "       0 PPushes remaining with PInf 2.2612219e-05                85s\n",
      "\n",
      "  Push phase complete: Pinf 2.2612219e-05, Dinf 6.2876672e+00     85s\n",
      "\n",
      "Iteration    Objective       Primal Inf.    Dual Inf.      Time\n",
      "    4640    1.0837026e+02   0.000000e+00   6.287620e+00     87s\n",
      "    4654    1.0837026e+02   0.000000e+00   0.000000e+00     91s\n",
      "\n",
      "Solved in 4654 iterations and 91.11 seconds (54.72 work units)\n",
      "Optimal objective  1.083702615e+02\n"
     ]
    }
   ],
   "source": [
    "H = problem_1_norm_P1_solver(hatA)\n",
    "# H = problem_1_norm_P1_sym_solver(hatA)"
   ]
  },
  {
   "cell_type": "code",
   "execution_count": 7,
   "metadata": {},
   "outputs": [],
   "source": [
    "def matrix_frobenius_norm(H):\n",
    "    return np.linalg.norm(H, ord=\"fro\")\n",
    "\n",
    "def matrix_vec_1_norm(H):\n",
    "    return np.linalg.norm(H.flatten(), ord=1)"
   ]
  },
  {
   "cell_type": "code",
   "execution_count": 8,
   "metadata": {},
   "outputs": [],
   "source": [
    "H_opt_filepath = \"H.mat\"\n",
    "\n",
    "import scipy.io\n",
    "import scipy.sparse\n",
    "\n",
    "mat = scipy.io.loadmat(H_opt_filepath)\n",
    "\n",
    "# Reads matrix\n",
    "H_opt = mat['Hval']\n",
    "\n",
    "if scipy.sparse.issparse(H_opt):\n",
    "    # Converts to dense matrix\n",
    "    H_opt = H_opt.toarray()"
   ]
  },
  {
   "cell_type": "code",
   "execution_count": 11,
   "metadata": {},
   "outputs": [
    {
     "name": "stdout",
     "output_type": "stream",
     "text": [
      "2.2993923103388574e-06\n",
      "1.2003748567506497e-06\n"
     ]
    },
    {
     "ename": "ValueError",
     "evalue": "shapes (100,100) and (90,90) not aligned: 100 (dim 1) != 90 (dim 0)",
     "output_type": "error",
     "traceback": [
      "\u001b[1;31m---------------------------------------------------------------------------\u001b[0m",
      "\u001b[1;31mValueError\u001b[0m                                Traceback (most recent call last)",
      "Cell \u001b[1;32mIn[11], line 3\u001b[0m\n\u001b[0;32m      1\u001b[0m \u001b[38;5;28mprint\u001b[39m(matrix_frobenius_norm(np\u001b[38;5;241m.\u001b[39mdot(hatA, np\u001b[38;5;241m.\u001b[39mdot(H, hatA)) \u001b[38;5;241m-\u001b[39m hatA))\n\u001b[0;32m      2\u001b[0m \u001b[38;5;28mprint\u001b[39m(matrix_vec_inf_norm(np\u001b[38;5;241m.\u001b[39mdot(hatA, np\u001b[38;5;241m.\u001b[39mdot(H, hatA)) \u001b[38;5;241m-\u001b[39m hatA))\n\u001b[1;32m----> 3\u001b[0m \u001b[38;5;28mprint\u001b[39m(matrix_frobenius_norm(np\u001b[38;5;241m.\u001b[39mdot(hatA, \u001b[43mnp\u001b[49m\u001b[38;5;241;43m.\u001b[39;49m\u001b[43mdot\u001b[49m\u001b[43m(\u001b[49m\u001b[43mH_opt\u001b[49m\u001b[43m,\u001b[49m\u001b[43m \u001b[49m\u001b[43mhatA\u001b[49m\u001b[43m)\u001b[49m) \u001b[38;5;241m-\u001b[39m hatA))\n",
      "\u001b[1;31mValueError\u001b[0m: shapes (100,100) and (90,90) not aligned: 100 (dim 1) != 90 (dim 0)"
     ]
    }
   ],
   "source": [
    "print(matrix_frobenius_norm(np.dot(hatA, np.dot(H, hatA)) - hatA))\n",
    "print(matrix_vec_inf_norm(np.dot(hatA, np.dot(H, hatA)) - hatA))\n",
    "print(matrix_frobenius_norm(np.dot(hatA, np.dot(H_opt, hatA)) - hatA))"
   ]
  },
  {
   "cell_type": "code",
   "execution_count": null,
   "metadata": {},
   "outputs": [],
   "source": [
    "print(matrix_vec_1_norm(H))\n",
    "print(matrix_vec_1_norm(H_opt))"
   ]
  }
 ],
 "metadata": {
  "kernelspec": {
   "display_name": "Nonlinear_Programming_Work",
   "language": "python",
   "name": "python3"
  },
  "language_info": {
   "codemirror_mode": {
    "name": "ipython",
    "version": 3
   },
   "file_extension": ".py",
   "mimetype": "text/x-python",
   "name": "python",
   "nbconvert_exporter": "python",
   "pygments_lexer": "ipython3",
   "version": "3.10.16"
  }
 },
 "nbformat": 4,
 "nbformat_minor": 2
}
