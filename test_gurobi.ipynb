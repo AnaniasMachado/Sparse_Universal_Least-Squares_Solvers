{
 "cells": [
  {
   "cell_type": "code",
   "execution_count": 1,
   "metadata": {},
   "outputs": [],
   "source": [
    "# Disables generation of pycache file\n",
    "import sys\n",
    "sys.dont_write_bytecode = True\n",
    "\n",
    "# Imports libraries\n",
    "import time\n",
    "import os\n",
    "import pandas as pd\n",
    "\n",
    "# Imports made functions\n",
    "from solvers import *\n",
    "from utility import *\n",
    "from admm_solvers import *\n",
    "from local_search import *"
   ]
  },
  {
   "cell_type": "code",
   "execution_count": 2,
   "metadata": {},
   "outputs": [],
   "source": [
    "experiment = \"6\""
   ]
  },
  {
   "cell_type": "code",
   "execution_count": 3,
   "metadata": {},
   "outputs": [],
   "source": [
    "matrices_filepath = get_experiment_matrices_filepath(experiment)\n",
    "matrix_filepath = \"Experiment_Matrices\\Experiment_6\\experiment_6_matrix_m200_n100_r25_d25_idx10.mat\"\n",
    "A = read_matrix(matrix_filepath)\n",
    "hatA = np.dot(A.T, A)"
   ]
  },
  {
   "cell_type": "code",
   "execution_count": 4,
   "metadata": {},
   "outputs": [
    {
     "name": "stdout",
     "output_type": "stream",
     "text": [
      "Set parameter Username\n",
      "Set parameter LicenseID to value 2619952\n",
      "Academic license - for non-commercial use only - expires 2026-02-09\n",
      "Warning for adding constraints: zero or small (< 1e-13) coefficients, ignored\n",
      "Set parameter TimeLimit to value 7200\n",
      "Gurobi Optimizer version 12.0.1 build v12.0.1rc0 (win64 - Windows Server 2019.0 (17763.2))\n",
      "\n",
      "CPU model: Intel(R) Xeon(R) CPU E5-2667 v4 @ 3.20GHz, instruction set [SSE2|AVX|AVX2]\n",
      "Thread count: 16 physical cores, 32 logical processors, using up to 32 threads\n",
      "\n",
      "Non-default parameters:\n",
      "TimeLimit  7200\n",
      "\n",
      "Optimize a model with 30000 rows, 20000 columns and 31161937 nonzeros\n",
      "Model fingerprint: 0x3615220a\n",
      "Coefficient statistics:\n",
      "  Matrix range     [1e-13, 1e+01]\n",
      "  Objective range  [1e+00, 1e+00]\n",
      "  Bounds range     [0e+00, 0e+00]\n",
      "  RHS range        [1e-25, 4e+00]\n",
      "Presolve removed 2233 rows and 2 columns (presolve time = 6s)...\n",
      "Presolve removed 12236 rows and 1353 columns (presolve time = 12s)...\n",
      "Presolve removed 12236 rows and 1353 columns (presolve time = 16s)...\n",
      "Presolve removed 12356 rows and 1353 columns (presolve time = 23s)...\n",
      "Presolve removed 13707 rows and 2704 columns (presolve time = 25s)...\n",
      "Presolve removed 13707 rows and 2704 columns\n",
      "\n",
      "Concurrent LP optimizer: primal simplex, dual simplex, and barrier\n",
      "Showing barrier log only...\n",
      "\n",
      "Ordering time: 1.73s\n",
      "\n",
      "Barrier statistics:\n",
      " Free vars  : 4368\n",
      " AA' NZ     : 1.694e+07\n",
      " Factor NZ  : 3.018e+07 (roughly 250 MB of memory)\n",
      " Factor Ops : 1.545e+11 (roughly 1 second per iteration)\n",
      " Threads    : 14\n",
      "\n",
      "                  Objective                Residual\n",
      "Iter       Primal          Dual         Primal    Dual     Compl     Time\n",
      "   0   1.65300229e+04  3.40197500e-01  1.15e-10 2.00e+00  2.87e+00    55s\n",
      "   1   1.93110168e+03  7.08107018e+00  2.12e-06 6.09e-04  2.20e-01    62s\n",
      "\n",
      "Barrier performed 1 iterations in 67.89 seconds (35.17 work units)\n",
      "Barrier solve interrupted - model solved by another algorithm\n",
      "\n",
      "\n",
      "Solved with dual simplex\n",
      "Iteration    Objective       Primal Inf.    Dual Inf.      Time\n",
      "    5257    1.9851010e+01   0.000000e+00   0.000000e+00     75s\n",
      "\n",
      "Use crossover to convert LP symmetric solution to basic solution...\n",
      "Crossover log...\n",
      "\n",
      "   19885 variables added to crossover basis                       85s\n",
      "   20426 variables added to crossover basis                       90s\n",
      "\n",
      "    9489 DPushes remaining with DInf 0.0000000e+00                93s\n",
      "     236 DPushes remaining with DInf 0.0000000e+00                96s\n",
      "     186 DPushes remaining with DInf 0.0000000e+00               100s\n",
      "\n",
      "       4 PPushes remaining with PInf 0.0000000e+00               102s\n",
      "       0 PPushes remaining with PInf 0.0000000e+00               105s\n",
      "\n",
      "  Push phase complete: Pinf 0.0000000e+00, Dinf 4.5048687e-07    105s\n",
      "\n",
      "Iteration    Objective       Primal Inf.    Dual Inf.      Time\n",
      "    5315    1.9851010e+01   0.000000e+00   0.000000e+00    108s\n",
      "\n",
      "Solved in 5315 iterations and 107.74 seconds (70.03 work units)\n",
      "Optimal objective  1.985101022e+01\n"
     ]
    }
   ],
   "source": [
    "H = problem_1_norm_P1_solver(hatA)"
   ]
  },
  {
   "cell_type": "code",
   "execution_count": 5,
   "metadata": {},
   "outputs": [],
   "source": [
    "def matrix_frobenius_norm(H):\n",
    "    return np.linalg.norm(H, ord=\"fro\")\n",
    "\n",
    "def matrix_vec_1_norm(H):\n",
    "    return np.linalg.norm(H.flatten(), ord=1)"
   ]
  },
  {
   "cell_type": "code",
   "execution_count": 6,
   "metadata": {},
   "outputs": [],
   "source": [
    "H_opt_filepath = \"H.mat\"\n",
    "\n",
    "import scipy.io\n",
    "import scipy.sparse\n",
    "\n",
    "mat = scipy.io.loadmat(H_opt_filepath)\n",
    "\n",
    "# Reads matrix\n",
    "H_opt = mat['Hval']\n",
    "\n",
    "if scipy.sparse.issparse(H_opt):\n",
    "    # Converts to dense matrix\n",
    "    H_opt = H_opt.toarray()"
   ]
  },
  {
   "cell_type": "code",
   "execution_count": 7,
   "metadata": {},
   "outputs": [
    {
     "name": "stdout",
     "output_type": "stream",
     "text": [
      "3.923709200024655e-09\n",
      "5.4099503071738916e-11\n"
     ]
    }
   ],
   "source": [
    "print(matrix_frobenius_norm(np.dot(hatA, np.dot(H, hatA)) - hatA))\n",
    "print(matrix_frobenius_norm(np.dot(hatA, np.dot(H_opt, hatA)) - hatA))"
   ]
  },
  {
   "cell_type": "code",
   "execution_count": 8,
   "metadata": {},
   "outputs": [
    {
     "name": "stdout",
     "output_type": "stream",
     "text": [
      "19.851011018125085\n",
      "19.851010639037362\n"
     ]
    }
   ],
   "source": [
    "print(matrix_vec_1_norm(H))\n",
    "print(matrix_vec_1_norm(H_opt))"
   ]
  }
 ],
 "metadata": {
  "kernelspec": {
   "display_name": "Nonlinear_Programming_Work",
   "language": "python",
   "name": "python3"
  },
  "language_info": {
   "codemirror_mode": {
    "name": "ipython",
    "version": 3
   },
   "file_extension": ".py",
   "mimetype": "text/x-python",
   "name": "python",
   "nbconvert_exporter": "python",
   "pygments_lexer": "ipython3",
   "version": "3.10.16"
  }
 },
 "nbformat": 4,
 "nbformat_minor": 2
}
