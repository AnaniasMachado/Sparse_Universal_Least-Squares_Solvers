{
 "cells": [
  {
   "cell_type": "markdown",
   "metadata": {},
   "source": [
    "# Run Experiments"
   ]
  },
  {
   "cell_type": "markdown",
   "metadata": {},
   "source": [
    "## Imports"
   ]
  },
  {
   "cell_type": "code",
   "execution_count": 1,
   "metadata": {},
   "outputs": [],
   "source": [
    "# Disables generation of pycache file\n",
    "import sys\n",
    "sys.dont_write_bytecode = True\n",
    "\n",
    "# Imports libraries\n",
    "import time\n",
    "import tracemalloc\n",
    "import os\n",
    "import pandas as pd\n",
    "\n",
    "# Imports made functions\n",
    "from solvers import *\n",
    "from utility import *"
   ]
  },
  {
   "cell_type": "markdown",
   "metadata": {},
   "source": [
    "## Running Experiments"
   ]
  },
  {
   "cell_type": "code",
   "execution_count": 2,
   "metadata": {},
   "outputs": [],
   "source": [
    "result_columns_basenames = [\"||H||_1\" , \"||H||_0\", \"r(H)\", \"||AHA - A||_F\", \"||HAH - H||_F\",\n",
    "                \"||(HA)^T - HA||_F\", \"||AHb - b||_1\", \"|lambda^T(AHb - b)|\",\n",
    "                \"Computational_Time(s)\", \"Memory_Used(MiB)\"]\n",
    "\n",
    "problems = [\"1_norm_PN\", \"1_norm_P1_P4\", \"1_norm_MSN\"]\n",
    "\n",
    "result_column_names = []\n",
    "for problem in problems:\n",
    "    for basename in result_columns_basenames:\n",
    "        result_column_names.append(f\"{problem}_{basename}\")\n",
    "\n",
    "column_names = [\"m\", \"r\"] + result_column_names\n",
    "\n",
    "m_values = [20 + 20*i for i in range(0, 3)]\n",
    "\n",
    "csv_file_path = \"results_3.csv\"\n",
    "temp_csv_file_path = \"results_3_temp.csv\"\n",
    "excel_file_path = \"results_3.xlsx\""
   ]
  },
  {
   "cell_type": "code",
   "execution_count": 3,
   "metadata": {},
   "outputs": [],
   "source": [
    "solvers = {\n",
    "    \"1_norm_PN\": problem_1_norm_PN_solver,\n",
    "    \"1_norm_P1_P4\": problem_1_norm_P1_P4_solver,\n",
    "    \"1_norm_MSN\": problem_1_norm_MSN_solver\n",
    "}\n",
    "\n",
    "is_viable_checks = {\n",
    "    \"1_norm_PN\": problem_1_norm_PN_viable_solution,\n",
    "    \"1_norm_P1_P4\": problem_1_norm_P1_P4_viable_solution,\n",
    "    \"1_norm_MSN\": problem_1_norm_MSN_viable_solution\n",
    "}"
   ]
  },
  {
   "cell_type": "code",
   "execution_count": 4,
   "metadata": {},
   "outputs": [],
   "source": [
    "try:\n",
    "    df = pd.read_csv(csv_file_path)\n",
    "except:\n",
    "    # Creates an empty dataframe with the specified column names\n",
    "    df = pd.DataFrame(columns=column_names)\n",
    "\n",
    "    # Saves dataframe as a csv file\n",
    "    df.to_csv(csv_file_path, index=False)"
   ]
  },
  {
   "cell_type": "code",
   "execution_count": 5,
   "metadata": {},
   "outputs": [],
   "source": [
    "df = pd.read_csv(csv_file_path)"
   ]
  },
  {
   "cell_type": "code",
   "execution_count": 6,
   "metadata": {},
   "outputs": [],
   "source": [
    "for m in m_values:\n",
    "    A, b = generate_random_rank_r_square_matrix_vector_b(m=m)\n",
    "    r = int(np.floor(0.5 * m))\n",
    "    instance_results = {\n",
    "        \"m\": m,\n",
    "        \"r\": r\n",
    "    }\n",
    "\n",
    "    for i in range(len(problems)):\n",
    "        problem = problems[i]\n",
    "        solver = solvers[problem]\n",
    "        is_viable_check = is_viable_checks[problem]\n",
    "        # Starts tracing memory usage\n",
    "        tracemalloc.start()\n",
    "        start_time = time.time()\n",
    "        H_star = solver(A=A, b=b)\n",
    "        end_time = time.time()\n",
    "        # Gets current amount of memory in usage and peak memory usage since tracing\n",
    "        current, peak = tracemalloc.get_traced_memory() # Memory usage is in bytes\n",
    "        # Resets peak memory usage\n",
    "        tracemalloc.reset_peak()\n",
    "        lambda_values = problem_2_norm_KKT_solver(A=A, b=b)\n",
    "        if (problem != \"1_norm_PN\"):\n",
    "            if (not is_viable_check(A=A, H=H_star, m=m)):\n",
    "                print(f\"m: {m}\")\n",
    "                print(f\"problem: {problem} did not find a viable solution\")\n",
    "                sys.exit()\n",
    "        else:\n",
    "            if (not is_viable_check(A=A, H=H_star, b=b, lambda_values=lambda_values, m=m)):\n",
    "                print(f\"m: {m}\")\n",
    "                print(f\"problem: {problem} did not find a viable solution\")\n",
    "                sys.exit()\n",
    "        problem_results = calculate_problem_results_3(\n",
    "            A=A, H=H_star, b=b, lambda_values=lambda_values, problem=problem\n",
    "        )\n",
    "        for key, value in problem_results.items():\n",
    "            instance_results[key] = value\n",
    "        instance_results[f\"{problem}_Computational_Time(s)\"] = end_time - start_time\n",
    "        instance_results[f\"{problem}_Memory_Used(MiB)\"] = peak / (1024 ** 2)\n",
    "\n",
    "    df.loc[len(df)] = instance_results\n",
    "    df.to_csv(csv_file_path, index=False)"
   ]
  },
  {
   "cell_type": "code",
   "execution_count": 9,
   "metadata": {},
   "outputs": [],
   "source": [
    "# Creates new csv file with different column name\n",
    "with open(csv_file_path, \"r\") as file:\n",
    "    data = file.readlines()\n",
    "    for i in range(len(data)):\n",
    "        data[i] = data[i].replace(f\"{problems[0]}_\", \"\")\n",
    "        data[i] = data[i].replace(f\"{problems[1]}_\", \"\")\n",
    "        data[i] = data[i].replace(f\"{problems[2]}_\", \"\")\n",
    "    with open(temp_csv_file_path, \"w\")as file2:\n",
    "        for line in data:\n",
    "            file2.write(line)\n",
    "\n",
    "import csv\n",
    "from openpyxl import Workbook\n",
    "\n",
    "# Creates a new Excel sheet\n",
    "workbook = Workbook()\n",
    "sheet = workbook.active\n",
    "\n",
    "# Reads and csv file and write the data on the Excel sheet\n",
    "with open(temp_csv_file_path, mode='r', encoding='utf-8') as csv_file:\n",
    "    csv_reader = csv.reader(csv_file)\n",
    "    for row in csv_reader:\n",
    "        sheet.append(row)\n",
    "\n",
    "# Saves the Excel file\n",
    "workbook.save(excel_file_path)\n",
    "\n",
    "# Deletes temp csv file\n",
    "# Verifies if file exists before deleting\n",
    "if os.path.exists(temp_csv_file_path):\n",
    "    os.remove(temp_csv_file_path)"
   ]
  }
 ],
 "metadata": {
  "kernelspec": {
   "display_name": "Nonlinear_Programming_Work_Kernel",
   "language": "python",
   "name": "nonlinear_programming_work_kernel"
  },
  "language_info": {
   "codemirror_mode": {
    "name": "ipython",
    "version": 3
   },
   "file_extension": ".py",
   "mimetype": "text/x-python",
   "name": "python",
   "nbconvert_exporter": "python",
   "pygments_lexer": "ipython3",
   "version": "3.12.8"
  }
 },
 "nbformat": 4,
 "nbformat_minor": 2
}
