{
 "cells": [
  {
   "cell_type": "markdown",
   "metadata": {},
   "source": [
    "# Run Experiments"
   ]
  },
  {
   "cell_type": "markdown",
   "metadata": {},
   "source": [
    "Let $A \\in \\mathbb{R}^{m \\times n}$, $H \\in \\mathbb{R}^{n \\times m}$.\n",
    "\n",
    "Consider the following properties:\n",
    "\n",
    "$$\n",
    "AHA = A \\tag{P1} \\\\\n",
    "$$\n",
    "\n",
    "$$\n",
    "(AH)^T = AH \\tag{P3} \\\\\n",
    "$$\n",
    "\n",
    "$$\n",
    "A^TAH = A^T \\tag{PLS} \\\\\n",
    "$$"
   ]
  },
  {
   "cell_type": "markdown",
   "metadata": {},
   "source": [
    "In this experiment we solve the problems:\n",
    "\n",
    "$$\n",
    "(P_{PLS}^{1}) = \\min\\{||H||_1 : PLS\\} \\\\\n",
    "$$\n",
    "\n",
    "$$\n",
    "(P_{1, 3}^{1}) = \\min\\{||H||_1 : P1, P3\\} \\\\\n",
    "$$"
   ]
  },
  {
   "cell_type": "markdown",
   "metadata": {},
   "source": [
    "Where $A$ is a random rank $r$ $m \\times n$ matrix $A$, where $m = 50, 60, ..., 100$, $n = \\lfloor 0.5m \\rfloor$, $r = \\lfloor 0.25m \\rfloor$, using the function *random.rand* from the Python’s library Numpy which generates a random $m \\times n$ matrix $A'$ with coefficients in the uniform distribution $[0, 1)$, after which we computed the singular value decomposition of $A'$, $U\\Sigma' V^T$, created a matrix $\\Sigma$ that consists of $Σ'$ with only the $r$-greatest singular values, and computed $A$ as $A = U\\Sigma V^T$. In the case where $A'$ has rank less then $r$, we simply generated another $A'$ until $A'$ has rank at least $r$."
   ]
  },
  {
   "cell_type": "markdown",
   "metadata": {},
   "source": [
    "We colleted the following measures for each problem:\n",
    "\n",
    "- $||H||_1$\n",
    "- $||H||_0$\n",
    "- r(H) (where r stands for rank)\n",
    "- $||AHA - A||_F$\n",
    "- $||HAH - H||_F$\n",
    "- $||(AH)^T - AH||_F$\n",
    "- $||A^TAH - AT||_F$\n",
    "- Computational_Time(s)\n",
    "- Memory_Used(MiB)"
   ]
  },
  {
   "cell_type": "markdown",
   "metadata": {},
   "source": [
    "## Imports"
   ]
  },
  {
   "cell_type": "code",
   "execution_count": 1,
   "metadata": {},
   "outputs": [],
   "source": [
    "# Disables generation of pycache file\n",
    "import sys\n",
    "sys.dont_write_bytecode = True\n",
    "\n",
    "# Imports libraries\n",
    "import time\n",
    "import tracemalloc\n",
    "import os\n",
    "import pandas as pd\n",
    "\n",
    "# Imports made functions\n",
    "from solvers import *\n",
    "from utility import *"
   ]
  },
  {
   "cell_type": "markdown",
   "metadata": {},
   "source": [
    "## Running Experiments"
   ]
  },
  {
   "cell_type": "code",
   "execution_count": 2,
   "metadata": {},
   "outputs": [],
   "source": [
    "result_columns_basenames = [\"||H||_1\" , \"||H||_0\", \"r(H)\", \"||AHA - A||_F\", \"||HAH - H||_F\",\n",
    "                \"||(AH)^T - AH||_F\", \"||A^TAH - AT||_F\", \"Computational_Time(s)\", \"Memory_Used(MiB)\"]\n",
    "\n",
    "problems = [\"1_norm_PLS\", \"1_norm_P1_P3\"]\n",
    "\n",
    "result_column_names = []\n",
    "for problem in problems:\n",
    "    for basename in result_columns_basenames:\n",
    "        result_column_names.append(f\"{problem}_{basename}\")\n",
    "\n",
    "column_names = [\"m\", \"n\", \"r\"] + result_column_names\n",
    "\n",
    "m_values = [10*i for i in range(5, 11)]"
   ]
  },
  {
   "cell_type": "code",
   "execution_count": 3,
   "metadata": {},
   "outputs": [],
   "source": [
    "solvers = {\n",
    "    \"1_norm_PLS\": problem_1_norm_PLS_solver,\n",
    "    \"1_norm_P1_P3\": problem_1_norm_P1_P3_solver\n",
    "}\n",
    "\n",
    "is_viable_checks = {\n",
    "    \"1_norm_PLS\": problem_1_norm_PLS_viable_solution,\n",
    "    \"1_norm_P1_P3\": problem_1_norm_P1_P3_viable_solution\n",
    "}"
   ]
  },
  {
   "cell_type": "code",
   "execution_count": 4,
   "metadata": {},
   "outputs": [],
   "source": [
    "try:\n",
    "    df = pd.read_csv(\"./results/results_2.csv\")\n",
    "except:\n",
    "    # Creates an empty dataframe with the specified column names\n",
    "    df = pd.DataFrame(columns=column_names)\n",
    "\n",
    "    # Saves dataframe as a csv file\n",
    "    df.to_csv('./results/results_2.csv', index=False)"
   ]
  },
  {
   "cell_type": "code",
   "execution_count": 5,
   "metadata": {},
   "outputs": [],
   "source": [
    "df = pd.read_csv(\"./results/results_2.csv\")"
   ]
  },
  {
   "cell_type": "code",
   "execution_count": 6,
   "metadata": {},
   "outputs": [],
   "source": [
    "for m in m_values:\n",
    "    A = generate_random_rank_r_matrix(m=m)\n",
    "    n = int(0.5 * m)\n",
    "    r = int(np.floor(0.25 * m))\n",
    "    instance_results = {\n",
    "        \"m\": m,\n",
    "        \"n\": n,\n",
    "        \"r\": r\n",
    "    }\n",
    "\n",
    "    for i in range(len(problems)):\n",
    "        problem = problems[i]\n",
    "        solver = solvers[problem]\n",
    "        is_viable_check = is_viable_checks[problem]\n",
    "        # Starts tracing memory usage\n",
    "        tracemalloc.start()\n",
    "        start_time = time.time()\n",
    "        H_star = solver(A=A)\n",
    "        end_time = time.time()\n",
    "        # Gets current amount of memory in usage and peak memory usage since tracing\n",
    "        current, peak = tracemalloc.get_traced_memory() # Memory usage is in bytes\n",
    "        # Resets peak memory usage\n",
    "        tracemalloc.reset_peak()\n",
    "        if (not is_viable_check(A=A, H=H_star, m=m, n=n)):\n",
    "            print(f\"m: {m}\")\n",
    "            print(f\"problem: {problem} did not find a viable solution\")\n",
    "            sys.exit()\n",
    "        problem_results = calculate_problem_results(A=A, H=H_star, problem=problem)\n",
    "        for key, value in problem_results.items():\n",
    "            instance_results[key] = value\n",
    "        instance_results[f\"{problem}_Computational_Time(s)\"] = end_time - start_time\n",
    "        instance_results[f\"{problem}_Memory_Used(MiB)\"] = peak / (1024 ** 2)\n",
    "\n",
    "    df.loc[len(df)] = instance_results\n",
    "    df.to_csv('./results/results_2.csv', index=False)"
   ]
  },
  {
   "cell_type": "code",
   "execution_count": 7,
   "metadata": {},
   "outputs": [],
   "source": [
    "# Creates new csv file with different column name\n",
    "with open(\"./results/results_2.csv\", \"r\") as file:\n",
    "    data = file.readlines()\n",
    "    for i in range(len(data)):\n",
    "        data[i] = data[i].replace(f\"{problems[0]}_\", \"\")\n",
    "        data[i] = data[i].replace(f\"{problems[1]}_\", \"\")\n",
    "    with open(\"./results/results_2_temp.csv\", \"w\")as file2:\n",
    "        for line in data:\n",
    "            file2.write(line)\n",
    "\n",
    "import csv\n",
    "from openpyxl import Workbook\n",
    "\n",
    "csv_file_path = './results/results_2_temp.csv'\n",
    "excel_file_path = './results/results_2.xlsx'\n",
    "\n",
    "# Creates a new Excel sheet\n",
    "workbook = Workbook()\n",
    "sheet = workbook.active\n",
    "\n",
    "# Reads and csv file and write the data on the Excel sheet\n",
    "with open(csv_file_path, mode='r', encoding='utf-8') as csv_file:\n",
    "    csv_reader = csv.reader(csv_file)\n",
    "    for row in csv_reader:\n",
    "        sheet.append(row)\n",
    "\n",
    "# Saves the Excel file\n",
    "workbook.save(excel_file_path)\n",
    "\n",
    "# Deletes temp csv file\n",
    "# Verifies if file exists before deleting\n",
    "if os.path.exists(csv_file_path):\n",
    "    os.remove(csv_file_path)"
   ]
  }
 ],
 "metadata": {
  "kernelspec": {
   "display_name": "Nonlinear_Programming_Work_Kernel",
   "language": "python",
   "name": "nonlinear_programming_work_kernel"
  },
  "language_info": {
   "codemirror_mode": {
    "name": "ipython",
    "version": 3
   },
   "file_extension": ".py",
   "mimetype": "text/x-python",
   "name": "python",
   "nbconvert_exporter": "python",
   "pygments_lexer": "ipython3",
   "version": "3.12.5"
  }
 },
 "nbformat": 4,
 "nbformat_minor": 2
}
